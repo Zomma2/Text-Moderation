{
  "nbformat": 4,
  "nbformat_minor": 0,
  "metadata": {
    "accelerator": "TPU",
    "colab": {
      "name": "Bert_model.ipynb",
      "provenance": [],
      "collapsed_sections": [],
      "toc_visible": true
    },
    "kernelspec": {
      "display_name": "Python 3",
      "language": "python",
      "name": "python3"
    },
    "language_info": {
      "codemirror_mode": {
        "name": "ipython",
        "version": 3
      },
      "file_extension": ".py",
      "mimetype": "text/x-python",
      "name": "python",
      "nbconvert_exporter": "python",
      "pygments_lexer": "ipython3",
      "version": "3.6.8"
    },
    "widgets": {
      "application/vnd.jupyter.widget-state+json": {
        "f8bee69dc4f748daae244023007c9e02": {
          "model_module": "@jupyter-widgets/controls",
          "model_name": "HBoxModel",
          "state": {
            "_view_name": "HBoxView",
            "_dom_classes": [],
            "_model_name": "HBoxModel",
            "_view_module": "@jupyter-widgets/controls",
            "_model_module_version": "1.5.0",
            "_view_count": null,
            "_view_module_version": "1.5.0",
            "box_style": "",
            "layout": "IPY_MODEL_f8fd896e4fb64525b58efebafd26bbf2",
            "_model_module": "@jupyter-widgets/controls",
            "children": [
              "IPY_MODEL_fe8d86261fc8411786dcf84c1b8e4a9b",
              "IPY_MODEL_af9d9cbf3b04464e856c1160417b50a8"
            ]
          }
        },
        "f8fd896e4fb64525b58efebafd26bbf2": {
          "model_module": "@jupyter-widgets/base",
          "model_name": "LayoutModel",
          "state": {
            "_view_name": "LayoutView",
            "grid_template_rows": null,
            "right": null,
            "justify_content": null,
            "_view_module": "@jupyter-widgets/base",
            "overflow": null,
            "_model_module_version": "1.2.0",
            "_view_count": null,
            "flex_flow": null,
            "width": null,
            "min_width": null,
            "border": null,
            "align_items": null,
            "bottom": null,
            "_model_module": "@jupyter-widgets/base",
            "top": null,
            "grid_column": null,
            "overflow_y": null,
            "overflow_x": null,
            "grid_auto_flow": null,
            "grid_area": null,
            "grid_template_columns": null,
            "flex": null,
            "_model_name": "LayoutModel",
            "justify_items": null,
            "grid_row": null,
            "max_height": null,
            "align_content": null,
            "visibility": null,
            "align_self": null,
            "height": null,
            "min_height": null,
            "padding": null,
            "grid_auto_rows": null,
            "grid_gap": null,
            "max_width": null,
            "order": null,
            "_view_module_version": "1.2.0",
            "grid_template_areas": null,
            "object_position": null,
            "object_fit": null,
            "grid_auto_columns": null,
            "margin": null,
            "display": null,
            "left": null
          }
        },
        "fe8d86261fc8411786dcf84c1b8e4a9b": {
          "model_module": "@jupyter-widgets/controls",
          "model_name": "FloatProgressModel",
          "state": {
            "_view_name": "ProgressView",
            "style": "IPY_MODEL_c1fd147acd714027bb002406e54cf2b3",
            "_dom_classes": [],
            "description": "Downloading: 100%",
            "_model_name": "FloatProgressModel",
            "bar_style": "success",
            "max": 995526,
            "_view_module": "@jupyter-widgets/controls",
            "_model_module_version": "1.5.0",
            "value": 995526,
            "_view_count": null,
            "_view_module_version": "1.5.0",
            "orientation": "horizontal",
            "min": 0,
            "description_tooltip": null,
            "_model_module": "@jupyter-widgets/controls",
            "layout": "IPY_MODEL_7b9be71847a44f0994d4d51b09c25303"
          }
        },
        "af9d9cbf3b04464e856c1160417b50a8": {
          "model_module": "@jupyter-widgets/controls",
          "model_name": "HTMLModel",
          "state": {
            "_view_name": "HTMLView",
            "style": "IPY_MODEL_f9271235fdad4c7da8560c36fe68ac7a",
            "_dom_classes": [],
            "description": "",
            "_model_name": "HTMLModel",
            "placeholder": "​",
            "_view_module": "@jupyter-widgets/controls",
            "_model_module_version": "1.5.0",
            "value": " 996k/996k [00:19&lt;00:00, 49.9kB/s]",
            "_view_count": null,
            "_view_module_version": "1.5.0",
            "description_tooltip": null,
            "_model_module": "@jupyter-widgets/controls",
            "layout": "IPY_MODEL_520104b1e6c94f00b78ed6d233c2b320"
          }
        },
        "c1fd147acd714027bb002406e54cf2b3": {
          "model_module": "@jupyter-widgets/controls",
          "model_name": "ProgressStyleModel",
          "state": {
            "_view_name": "StyleView",
            "_model_name": "ProgressStyleModel",
            "description_width": "initial",
            "_view_module": "@jupyter-widgets/base",
            "_model_module_version": "1.5.0",
            "_view_count": null,
            "_view_module_version": "1.2.0",
            "bar_color": null,
            "_model_module": "@jupyter-widgets/controls"
          }
        },
        "7b9be71847a44f0994d4d51b09c25303": {
          "model_module": "@jupyter-widgets/base",
          "model_name": "LayoutModel",
          "state": {
            "_view_name": "LayoutView",
            "grid_template_rows": null,
            "right": null,
            "justify_content": null,
            "_view_module": "@jupyter-widgets/base",
            "overflow": null,
            "_model_module_version": "1.2.0",
            "_view_count": null,
            "flex_flow": null,
            "width": null,
            "min_width": null,
            "border": null,
            "align_items": null,
            "bottom": null,
            "_model_module": "@jupyter-widgets/base",
            "top": null,
            "grid_column": null,
            "overflow_y": null,
            "overflow_x": null,
            "grid_auto_flow": null,
            "grid_area": null,
            "grid_template_columns": null,
            "flex": null,
            "_model_name": "LayoutModel",
            "justify_items": null,
            "grid_row": null,
            "max_height": null,
            "align_content": null,
            "visibility": null,
            "align_self": null,
            "height": null,
            "min_height": null,
            "padding": null,
            "grid_auto_rows": null,
            "grid_gap": null,
            "max_width": null,
            "order": null,
            "_view_module_version": "1.2.0",
            "grid_template_areas": null,
            "object_position": null,
            "object_fit": null,
            "grid_auto_columns": null,
            "margin": null,
            "display": null,
            "left": null
          }
        },
        "f9271235fdad4c7da8560c36fe68ac7a": {
          "model_module": "@jupyter-widgets/controls",
          "model_name": "DescriptionStyleModel",
          "state": {
            "_view_name": "StyleView",
            "_model_name": "DescriptionStyleModel",
            "description_width": "",
            "_view_module": "@jupyter-widgets/base",
            "_model_module_version": "1.5.0",
            "_view_count": null,
            "_view_module_version": "1.2.0",
            "_model_module": "@jupyter-widgets/controls"
          }
        },
        "520104b1e6c94f00b78ed6d233c2b320": {
          "model_module": "@jupyter-widgets/base",
          "model_name": "LayoutModel",
          "state": {
            "_view_name": "LayoutView",
            "grid_template_rows": null,
            "right": null,
            "justify_content": null,
            "_view_module": "@jupyter-widgets/base",
            "overflow": null,
            "_model_module_version": "1.2.0",
            "_view_count": null,
            "flex_flow": null,
            "width": null,
            "min_width": null,
            "border": null,
            "align_items": null,
            "bottom": null,
            "_model_module": "@jupyter-widgets/base",
            "top": null,
            "grid_column": null,
            "overflow_y": null,
            "overflow_x": null,
            "grid_auto_flow": null,
            "grid_area": null,
            "grid_template_columns": null,
            "flex": null,
            "_model_name": "LayoutModel",
            "justify_items": null,
            "grid_row": null,
            "max_height": null,
            "align_content": null,
            "visibility": null,
            "align_self": null,
            "height": null,
            "min_height": null,
            "padding": null,
            "grid_auto_rows": null,
            "grid_gap": null,
            "max_width": null,
            "order": null,
            "_view_module_version": "1.2.0",
            "grid_template_areas": null,
            "object_position": null,
            "object_fit": null,
            "grid_auto_columns": null,
            "margin": null,
            "display": null,
            "left": null
          }
        },
        "416dae6f917d42c09148bbae547d8373": {
          "model_module": "@jupyter-widgets/controls",
          "model_name": "HBoxModel",
          "state": {
            "_view_name": "HBoxView",
            "_dom_classes": [],
            "_model_name": "HBoxModel",
            "_view_module": "@jupyter-widgets/controls",
            "_model_module_version": "1.5.0",
            "_view_count": null,
            "_view_module_version": "1.5.0",
            "box_style": "",
            "layout": "IPY_MODEL_ccc4124b2213408da37b2626cf2f172d",
            "_model_module": "@jupyter-widgets/controls",
            "children": [
              "IPY_MODEL_cac56131c10b489685e44e9f04c8582e",
              "IPY_MODEL_851775425e784d03afc6071596fd3f6b"
            ]
          }
        },
        "ccc4124b2213408da37b2626cf2f172d": {
          "model_module": "@jupyter-widgets/base",
          "model_name": "LayoutModel",
          "state": {
            "_view_name": "LayoutView",
            "grid_template_rows": null,
            "right": null,
            "justify_content": null,
            "_view_module": "@jupyter-widgets/base",
            "overflow": null,
            "_model_module_version": "1.2.0",
            "_view_count": null,
            "flex_flow": null,
            "width": null,
            "min_width": null,
            "border": null,
            "align_items": null,
            "bottom": null,
            "_model_module": "@jupyter-widgets/base",
            "top": null,
            "grid_column": null,
            "overflow_y": null,
            "overflow_x": null,
            "grid_auto_flow": null,
            "grid_area": null,
            "grid_template_columns": null,
            "flex": null,
            "_model_name": "LayoutModel",
            "justify_items": null,
            "grid_row": null,
            "max_height": null,
            "align_content": null,
            "visibility": null,
            "align_self": null,
            "height": null,
            "min_height": null,
            "padding": null,
            "grid_auto_rows": null,
            "grid_gap": null,
            "max_width": null,
            "order": null,
            "_view_module_version": "1.2.0",
            "grid_template_areas": null,
            "object_position": null,
            "object_fit": null,
            "grid_auto_columns": null,
            "margin": null,
            "display": null,
            "left": null
          }
        },
        "cac56131c10b489685e44e9f04c8582e": {
          "model_module": "@jupyter-widgets/controls",
          "model_name": "FloatProgressModel",
          "state": {
            "_view_name": "ProgressView",
            "style": "IPY_MODEL_0a64faec68d54a93a3f43315ccc3d658",
            "_dom_classes": [],
            "description": "Downloading: 100%",
            "_model_name": "FloatProgressModel",
            "bar_style": "success",
            "max": 466,
            "_view_module": "@jupyter-widgets/controls",
            "_model_module_version": "1.5.0",
            "value": 466,
            "_view_count": null,
            "_view_module_version": "1.5.0",
            "orientation": "horizontal",
            "min": 0,
            "description_tooltip": null,
            "_model_module": "@jupyter-widgets/controls",
            "layout": "IPY_MODEL_281b49a247e9492c8ef59c4acb7528cf"
          }
        },
        "851775425e784d03afc6071596fd3f6b": {
          "model_module": "@jupyter-widgets/controls",
          "model_name": "HTMLModel",
          "state": {
            "_view_name": "HTMLView",
            "style": "IPY_MODEL_df229fd751e1444c8ed984b784d1187f",
            "_dom_classes": [],
            "description": "",
            "_model_name": "HTMLModel",
            "placeholder": "​",
            "_view_module": "@jupyter-widgets/controls",
            "_model_module_version": "1.5.0",
            "value": " 466/466 [00:00&lt;00:00, 1.24kB/s]",
            "_view_count": null,
            "_view_module_version": "1.5.0",
            "description_tooltip": null,
            "_model_module": "@jupyter-widgets/controls",
            "layout": "IPY_MODEL_a7ac7ab4a44e47e69b827addb51c7568"
          }
        },
        "0a64faec68d54a93a3f43315ccc3d658": {
          "model_module": "@jupyter-widgets/controls",
          "model_name": "ProgressStyleModel",
          "state": {
            "_view_name": "StyleView",
            "_model_name": "ProgressStyleModel",
            "description_width": "initial",
            "_view_module": "@jupyter-widgets/base",
            "_model_module_version": "1.5.0",
            "_view_count": null,
            "_view_module_version": "1.2.0",
            "bar_color": null,
            "_model_module": "@jupyter-widgets/controls"
          }
        },
        "281b49a247e9492c8ef59c4acb7528cf": {
          "model_module": "@jupyter-widgets/base",
          "model_name": "LayoutModel",
          "state": {
            "_view_name": "LayoutView",
            "grid_template_rows": null,
            "right": null,
            "justify_content": null,
            "_view_module": "@jupyter-widgets/base",
            "overflow": null,
            "_model_module_version": "1.2.0",
            "_view_count": null,
            "flex_flow": null,
            "width": null,
            "min_width": null,
            "border": null,
            "align_items": null,
            "bottom": null,
            "_model_module": "@jupyter-widgets/base",
            "top": null,
            "grid_column": null,
            "overflow_y": null,
            "overflow_x": null,
            "grid_auto_flow": null,
            "grid_area": null,
            "grid_template_columns": null,
            "flex": null,
            "_model_name": "LayoutModel",
            "justify_items": null,
            "grid_row": null,
            "max_height": null,
            "align_content": null,
            "visibility": null,
            "align_self": null,
            "height": null,
            "min_height": null,
            "padding": null,
            "grid_auto_rows": null,
            "grid_gap": null,
            "max_width": null,
            "order": null,
            "_view_module_version": "1.2.0",
            "grid_template_areas": null,
            "object_position": null,
            "object_fit": null,
            "grid_auto_columns": null,
            "margin": null,
            "display": null,
            "left": null
          }
        },
        "df229fd751e1444c8ed984b784d1187f": {
          "model_module": "@jupyter-widgets/controls",
          "model_name": "DescriptionStyleModel",
          "state": {
            "_view_name": "StyleView",
            "_model_name": "DescriptionStyleModel",
            "description_width": "",
            "_view_module": "@jupyter-widgets/base",
            "_model_module_version": "1.5.0",
            "_view_count": null,
            "_view_module_version": "1.2.0",
            "_model_module": "@jupyter-widgets/controls"
          }
        },
        "a7ac7ab4a44e47e69b827addb51c7568": {
          "model_module": "@jupyter-widgets/base",
          "model_name": "LayoutModel",
          "state": {
            "_view_name": "LayoutView",
            "grid_template_rows": null,
            "right": null,
            "justify_content": null,
            "_view_module": "@jupyter-widgets/base",
            "overflow": null,
            "_model_module_version": "1.2.0",
            "_view_count": null,
            "flex_flow": null,
            "width": null,
            "min_width": null,
            "border": null,
            "align_items": null,
            "bottom": null,
            "_model_module": "@jupyter-widgets/base",
            "top": null,
            "grid_column": null,
            "overflow_y": null,
            "overflow_x": null,
            "grid_auto_flow": null,
            "grid_area": null,
            "grid_template_columns": null,
            "flex": null,
            "_model_name": "LayoutModel",
            "justify_items": null,
            "grid_row": null,
            "max_height": null,
            "align_content": null,
            "visibility": null,
            "align_self": null,
            "height": null,
            "min_height": null,
            "padding": null,
            "grid_auto_rows": null,
            "grid_gap": null,
            "max_width": null,
            "order": null,
            "_view_module_version": "1.2.0",
            "grid_template_areas": null,
            "object_position": null,
            "object_fit": null,
            "grid_auto_columns": null,
            "margin": null,
            "display": null,
            "left": null
          }
        },
        "ff9f07990455417b884e78cbaa414bc2": {
          "model_module": "@jupyter-widgets/controls",
          "model_name": "HBoxModel",
          "state": {
            "_view_name": "HBoxView",
            "_dom_classes": [],
            "_model_name": "HBoxModel",
            "_view_module": "@jupyter-widgets/controls",
            "_model_module_version": "1.5.0",
            "_view_count": null,
            "_view_module_version": "1.5.0",
            "box_style": "",
            "layout": "IPY_MODEL_99072a9c9dd0406e83bd040163afd596",
            "_model_module": "@jupyter-widgets/controls",
            "children": [
              "IPY_MODEL_008da3dbd2ff4295a63fd6ba8ec49327",
              "IPY_MODEL_f068ac80b6484acb919c18974c45b927"
            ]
          }
        },
        "99072a9c9dd0406e83bd040163afd596": {
          "model_module": "@jupyter-widgets/base",
          "model_name": "LayoutModel",
          "state": {
            "_view_name": "LayoutView",
            "grid_template_rows": null,
            "right": null,
            "justify_content": null,
            "_view_module": "@jupyter-widgets/base",
            "overflow": null,
            "_model_module_version": "1.2.0",
            "_view_count": null,
            "flex_flow": null,
            "width": null,
            "min_width": null,
            "border": null,
            "align_items": null,
            "bottom": null,
            "_model_module": "@jupyter-widgets/base",
            "top": null,
            "grid_column": null,
            "overflow_y": null,
            "overflow_x": null,
            "grid_auto_flow": null,
            "grid_area": null,
            "grid_template_columns": null,
            "flex": null,
            "_model_name": "LayoutModel",
            "justify_items": null,
            "grid_row": null,
            "max_height": null,
            "align_content": null,
            "visibility": null,
            "align_self": null,
            "height": null,
            "min_height": null,
            "padding": null,
            "grid_auto_rows": null,
            "grid_gap": null,
            "max_width": null,
            "order": null,
            "_view_module_version": "1.2.0",
            "grid_template_areas": null,
            "object_position": null,
            "object_fit": null,
            "grid_auto_columns": null,
            "margin": null,
            "display": null,
            "left": null
          }
        },
        "008da3dbd2ff4295a63fd6ba8ec49327": {
          "model_module": "@jupyter-widgets/controls",
          "model_name": "FloatProgressModel",
          "state": {
            "_view_name": "ProgressView",
            "style": "IPY_MODEL_ec3430ef14484cd4b5ce9cc374e94130",
            "_dom_classes": [],
            "description": "Downloading: 100%",
            "_model_name": "FloatProgressModel",
            "bar_style": "success",
            "max": 910749124,
            "_view_module": "@jupyter-widgets/controls",
            "_model_module_version": "1.5.0",
            "value": 910749124,
            "_view_count": null,
            "_view_module_version": "1.5.0",
            "orientation": "horizontal",
            "min": 0,
            "description_tooltip": null,
            "_model_module": "@jupyter-widgets/controls",
            "layout": "IPY_MODEL_1246bc8f2ed4430c831170395ba513b4"
          }
        },
        "f068ac80b6484acb919c18974c45b927": {
          "model_module": "@jupyter-widgets/controls",
          "model_name": "HTMLModel",
          "state": {
            "_view_name": "HTMLView",
            "style": "IPY_MODEL_1794fb99fb1b461b9872240227b07007",
            "_dom_classes": [],
            "description": "",
            "_model_name": "HTMLModel",
            "placeholder": "​",
            "_view_module": "@jupyter-widgets/controls",
            "_model_module_version": "1.5.0",
            "value": " 911M/911M [15:26&lt;00:00, 983kB/s]",
            "_view_count": null,
            "_view_module_version": "1.5.0",
            "description_tooltip": null,
            "_model_module": "@jupyter-widgets/controls",
            "layout": "IPY_MODEL_5c0bee7edaf340678d245a2532ab51cf"
          }
        },
        "ec3430ef14484cd4b5ce9cc374e94130": {
          "model_module": "@jupyter-widgets/controls",
          "model_name": "ProgressStyleModel",
          "state": {
            "_view_name": "StyleView",
            "_model_name": "ProgressStyleModel",
            "description_width": "initial",
            "_view_module": "@jupyter-widgets/base",
            "_model_module_version": "1.5.0",
            "_view_count": null,
            "_view_module_version": "1.2.0",
            "bar_color": null,
            "_model_module": "@jupyter-widgets/controls"
          }
        },
        "1246bc8f2ed4430c831170395ba513b4": {
          "model_module": "@jupyter-widgets/base",
          "model_name": "LayoutModel",
          "state": {
            "_view_name": "LayoutView",
            "grid_template_rows": null,
            "right": null,
            "justify_content": null,
            "_view_module": "@jupyter-widgets/base",
            "overflow": null,
            "_model_module_version": "1.2.0",
            "_view_count": null,
            "flex_flow": null,
            "width": null,
            "min_width": null,
            "border": null,
            "align_items": null,
            "bottom": null,
            "_model_module": "@jupyter-widgets/base",
            "top": null,
            "grid_column": null,
            "overflow_y": null,
            "overflow_x": null,
            "grid_auto_flow": null,
            "grid_area": null,
            "grid_template_columns": null,
            "flex": null,
            "_model_name": "LayoutModel",
            "justify_items": null,
            "grid_row": null,
            "max_height": null,
            "align_content": null,
            "visibility": null,
            "align_self": null,
            "height": null,
            "min_height": null,
            "padding": null,
            "grid_auto_rows": null,
            "grid_gap": null,
            "max_width": null,
            "order": null,
            "_view_module_version": "1.2.0",
            "grid_template_areas": null,
            "object_position": null,
            "object_fit": null,
            "grid_auto_columns": null,
            "margin": null,
            "display": null,
            "left": null
          }
        },
        "1794fb99fb1b461b9872240227b07007": {
          "model_module": "@jupyter-widgets/controls",
          "model_name": "DescriptionStyleModel",
          "state": {
            "_view_name": "StyleView",
            "_model_name": "DescriptionStyleModel",
            "description_width": "",
            "_view_module": "@jupyter-widgets/base",
            "_model_module_version": "1.5.0",
            "_view_count": null,
            "_view_module_version": "1.2.0",
            "_model_module": "@jupyter-widgets/controls"
          }
        },
        "5c0bee7edaf340678d245a2532ab51cf": {
          "model_module": "@jupyter-widgets/base",
          "model_name": "LayoutModel",
          "state": {
            "_view_name": "LayoutView",
            "grid_template_rows": null,
            "right": null,
            "justify_content": null,
            "_view_module": "@jupyter-widgets/base",
            "overflow": null,
            "_model_module_version": "1.2.0",
            "_view_count": null,
            "flex_flow": null,
            "width": null,
            "min_width": null,
            "border": null,
            "align_items": null,
            "bottom": null,
            "_model_module": "@jupyter-widgets/base",
            "top": null,
            "grid_column": null,
            "overflow_y": null,
            "overflow_x": null,
            "grid_auto_flow": null,
            "grid_area": null,
            "grid_template_columns": null,
            "flex": null,
            "_model_name": "LayoutModel",
            "justify_items": null,
            "grid_row": null,
            "max_height": null,
            "align_content": null,
            "visibility": null,
            "align_self": null,
            "height": null,
            "min_height": null,
            "padding": null,
            "grid_auto_rows": null,
            "grid_gap": null,
            "max_width": null,
            "order": null,
            "_view_module_version": "1.2.0",
            "grid_template_areas": null,
            "object_position": null,
            "object_fit": null,
            "grid_auto_columns": null,
            "margin": null,
            "display": null,
            "left": null
          }
        }
      }
    }
  },
  "cells": [
    {
      "cell_type": "markdown",
      "metadata": {
        "id": "cYM0QeKwu1bS"
      },
      "source": [
        "#  <font size = 32 font color = 'Orange'>Text Moderation Bert Model Building"
      ]
    },
    {
      "cell_type": "markdown",
      "metadata": {
        "id": "NTO2POc8ya2j"
      },
      "source": [
        "#  <font size = 40 font color = 'Grey'> TRAINING DATASET GATHERING "
      ]
    },
    {
      "cell_type": "markdown",
      "metadata": {
        "id": "mhJVVmmDMJCu"
      },
      "source": [
        "# Getting DataSet from kaggle \n"
      ]
    },
    {
      "cell_type": "code",
      "metadata": {
        "id": "W1FDwGewMJCu"
      },
      "source": [
        "### Install kaggle with pip command \n",
        "! pip install -q kaggle"
      ],
      "execution_count": null,
      "outputs": []
    },
    {
      "cell_type": "code",
      "metadata": {
        "colab": {
          "resources": {
            "http://localhost:8080/nbextensions/google.colab/files.js": {
              "data": "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",
              "ok": true,
              "headers": [
                [
                  "content-type",
                  "application/javascript"
                ]
              ],
              "status": 200,
              "status_text": ""
            }
          },
          "base_uri": "https://localhost:8080/",
          "height": 90
        },
        "id": "v-6JF7_sMJCv",
        "outputId": "eaf71464-0063-4ae7-c51f-3eb2b404ae1d"
      },
      "source": [
        "###\n",
        "# Upload kaggle.json file \n",
        "###\n",
        "\n",
        "\n",
        "from google.colab import files\n",
        "\n",
        "files.upload()"
      ],
      "execution_count": null,
      "outputs": [
        {
          "output_type": "display_data",
          "data": {
            "text/html": [
              "\n",
              "     <input type=\"file\" id=\"files-a32a9ff0-c727-4b34-8523-fed41df7204a\" name=\"files[]\" multiple disabled\n",
              "        style=\"border:none\" />\n",
              "     <output id=\"result-a32a9ff0-c727-4b34-8523-fed41df7204a\">\n",
              "      Upload widget is only available when the cell has been executed in the\n",
              "      current browser session. Please rerun this cell to enable.\n",
              "      </output>\n",
              "      <script src=\"/nbextensions/google.colab/files.js\"></script> "
            ],
            "text/plain": [
              "<IPython.core.display.HTML object>"
            ]
          },
          "metadata": {
            "tags": []
          }
        },
        {
          "output_type": "stream",
          "text": [
            "Saving kaggle.json to kaggle.json\n"
          ],
          "name": "stdout"
        },
        {
          "output_type": "execute_result",
          "data": {
            "text/plain": [
              "{'kaggle.json': b'{\"username\":\"omarhazem\",\"key\":\"368217b482d6cf4014b780c5a868b960\"}'}"
            ]
          },
          "metadata": {
            "tags": []
          },
          "execution_count": 2
        }
      ]
    },
    {
      "cell_type": "code",
      "metadata": {
        "id": "sPxhCDhjMJCv"
      },
      "source": [
        "! mkdir ~/.kaggle  # make directory \n",
        "! cp kaggle.json ~/.kaggle/ # copy kaggle.json to previous mentioned directory \n",
        "! chmod 600 ~/.kaggle/kaggle.json # set read / write permission "
      ],
      "execution_count": null,
      "outputs": []
    },
    {
      "cell_type": "code",
      "metadata": {
        "colab": {
          "base_uri": "https://localhost:8080/"
        },
        "id": "K8AUp1vyMJCv",
        "outputId": "99d8a03a-16f5-4641-f400-9325cf183a02"
      },
      "source": [
        " ! kaggle datasets list # test kaggle "
      ],
      "execution_count": null,
      "outputs": [
        {
          "output_type": "stream",
          "text": [
            "Warning: Looks like you're using an outdated API Version, please consider updating (server 1.5.10 / client 1.5.4)\n",
            "ref                                                           title                                                size  lastUpdated          downloadCount  \n",
            "------------------------------------------------------------  --------------------------------------------------  -----  -------------------  -------------  \n",
            "utkarshxy/who-worldhealth-statistics-2020-complete            World Health Statistics 2020|Complete|Geo-Analysis    1MB  2021-01-10 18:25:49           1877  \n",
            "gpreda/pfizer-vaccine-tweets                                  Pfizer Vaccine Tweets                               491KB  2021-01-10 12:03:08           1253  \n",
            "arashnic/covid19-case-surveillance-public-use-dataset         Covid-19 Case Surveillance Public Use Dataset        46MB  2020-12-21 02:24:21            964  \n",
            "ashkhagan/women-representation-in-city-property-sanfrancisco  Women Representation in City Property SanFrancisco    3KB  2020-12-13 05:18:14            300  \n",
            "google/android-smartphones-high-accuracy-datasets             Android smartphones high accuracy GNSS datasets       1GB  2020-12-23 01:51:11            372  \n",
            "rowhitswami/all-indian-companies-registration-data-1900-2019  Indian Companies Registration Data [1857 - 2020]    112MB  2020-12-12 03:59:01            312  \n",
            "arashnic/mind-news-dataset                                    MIND: Microsoft News Recommendation Dataset          51MB  2020-12-21 00:22:50            119  \n",
            "sakshigoyal7/credit-card-customers                            Credit Card customers                               379KB  2020-11-19 07:38:44          15414  \n",
            "arashnic/hr-analytics-job-change-of-data-scientists           HR Analytics: Job Change of Data Scientists         295KB  2020-12-07 00:25:10           3025  \n",
            "sootersaalu/amazon-top-50-bestselling-books-2009-2019         Amazon Top 50 Bestselling Books 2009 - 2019          15KB  2020-10-13 09:39:21          12223  \n",
            "yamaerenay/spotify-dataset-19212020-160k-tracks               Spotify Dataset 1921-2020, 160k+ Tracks              16MB  2020-11-25 21:14:12          14514  \n",
            "mrmorj/dataset-of-songs-in-spotify                            Dataset of songs in Spotify                           3MB  2020-12-06 09:46:55           1380  \n",
            "google/tinyquickdraw                                          QuickDraw Sketches                                   11GB  2018-04-18 19:38:04           2699  \n",
            "datasnaek/youtube-new                                         Trending YouTube Video Statistics                   201MB  2019-06-03 00:56:47         123067  \n",
            "zynicide/wine-reviews                                         Wine Reviews                                         51MB  2017-11-27 17:08:04         125032  \n",
            "datasnaek/chess                                               Chess Game Dataset (Lichess)                          3MB  2017-09-04 03:09:09          13276  \n",
            "rtatman/188-million-us-wildfires                              1.88 Million US Wildfires                           168MB  2020-05-12 21:03:49          12406  \n",
            "residentmario/ramen-ratings                                   Ramen Ratings                                        40KB  2018-01-11 16:04:39          18402  \n",
            "nasa/kepler-exoplanet-search-results                          Kepler Exoplanet Search Results                       1MB  2017-10-10 18:26:59           5529  \n",
            "jpmiller/publicassistance                                     US Public Food Assistance                           703KB  2020-08-21 16:51:18          10085  \n"
          ],
          "name": "stdout"
        }
      ]
    },
    {
      "cell_type": "code",
      "metadata": {
        "colab": {
          "base_uri": "https://localhost:8080/"
        },
        "id": "rnoao4seMJCw",
        "outputId": "8c3a499d-3a1f-4c40-96d6-e766104507ab"
      },
      "source": [
        "!kaggle datasets download -d yeayates21/jigsaw-multilingual-aug-mix # Download the dataset "
      ],
      "execution_count": null,
      "outputs": [
        {
          "output_type": "stream",
          "text": [
            "Downloading jigsaw-multilingual-aug-mix.zip to /content\n",
            " 88% 57.0M/64.7M [00:01<00:00, 50.5MB/s]\n",
            "100% 64.7M/64.7M [00:01<00:00, 58.0MB/s]\n"
          ],
          "name": "stdout"
        }
      ]
    },
    {
      "cell_type": "code",
      "metadata": {
        "colab": {
          "base_uri": "https://localhost:8080/"
        },
        "id": "ZqsZcjbuMJCw",
        "outputId": "2f0553d6-c74e-433c-96f6-bb10888896ed"
      },
      "source": [
        "! unzip  /content/jigsaw-multilingual-aug-mix.zip # unzip the dataset "
      ],
      "execution_count": null,
      "outputs": [
        {
          "output_type": "stream",
          "text": [
            "Archive:  /content/jigsaw-multilingual-aug-mix.zip\n",
            "  inflating: jigsaw_mjy_train_val_openaug_523200.csv  \n",
            "  inflating: train_augmented1605_downsample.csv  \n"
          ],
          "name": "stdout"
        }
      ]
    },
    {
      "cell_type": "markdown",
      "metadata": {
        "id": "chD-VSXXvuXn"
      },
      "source": [
        "# Exploring the Dataset "
      ]
    },
    {
      "cell_type": "code",
      "metadata": {
        "id": "GD1Zl-71u7e3"
      },
      "source": [
        "import pandas as pd # Importing pandas  \n",
        "My_dataset = pd.read_csv('/content/jigsaw_mjy_train_val_openaug_523200.csv') # reading Dataset"
      ],
      "execution_count": null,
      "outputs": []
    },
    {
      "cell_type": "code",
      "metadata": {
        "colab": {
          "base_uri": "https://localhost:8080/",
          "height": 204
        },
        "id": "XFiWITKtvFw5",
        "outputId": "c0db6859-0d54-4597-b44b-2c6d2160354e"
      },
      "source": [
        "My_dataset.head(5) # get first 5 enteries"
      ],
      "execution_count": null,
      "outputs": [
        {
          "output_type": "execute_result",
          "data": {
            "text/html": [
              "<div>\n",
              "<style scoped>\n",
              "    .dataframe tbody tr th:only-of-type {\n",
              "        vertical-align: middle;\n",
              "    }\n",
              "\n",
              "    .dataframe tbody tr th {\n",
              "        vertical-align: top;\n",
              "    }\n",
              "\n",
              "    .dataframe thead th {\n",
              "        text-align: right;\n",
              "    }\n",
              "</style>\n",
              "<table border=\"1\" class=\"dataframe\">\n",
              "  <thead>\n",
              "    <tr style=\"text-align: right;\">\n",
              "      <th></th>\n",
              "      <th>Unnamed: 0</th>\n",
              "      <th>comment_text</th>\n",
              "      <th>toxic</th>\n",
              "    </tr>\n",
              "  </thead>\n",
              "  <tbody>\n",
              "    <tr>\n",
              "      <th>0</th>\n",
              "      <td>1418409</td>\n",
              "      <td>No surprise at all. Trump cares little about a...</td>\n",
              "      <td>1.0</td>\n",
              "    </tr>\n",
              "    <tr>\n",
              "      <th>1</th>\n",
              "      <td>312318</td>\n",
              "      <td>What an ugly, racist thing to say.  I don't kn...</td>\n",
              "      <td>1.0</td>\n",
              "    </tr>\n",
              "    <tr>\n",
              "      <th>2</th>\n",
              "      <td>711046</td>\n",
              "      <td>because it is STILL illegal</td>\n",
              "      <td>0.0</td>\n",
              "    </tr>\n",
              "    <tr>\n",
              "      <th>3</th>\n",
              "      <td>696866</td>\n",
              "      <td>Pleah.  Voyeurism is pathetic any time, but vo...</td>\n",
              "      <td>1.0</td>\n",
              "    </tr>\n",
              "    <tr>\n",
              "      <th>4</th>\n",
              "      <td>1225444</td>\n",
              "      <td>Мне жаль, но так оно и есть.</td>\n",
              "      <td>0.0</td>\n",
              "    </tr>\n",
              "  </tbody>\n",
              "</table>\n",
              "</div>"
            ],
            "text/plain": [
              "   Unnamed: 0                                       comment_text  toxic\n",
              "0     1418409  No surprise at all. Trump cares little about a...    1.0\n",
              "1      312318  What an ugly, racist thing to say.  I don't kn...    1.0\n",
              "2      711046                        because it is STILL illegal    0.0\n",
              "3      696866  Pleah.  Voyeurism is pathetic any time, but vo...    1.0\n",
              "4     1225444                       Мне жаль, но так оно и есть.    0.0"
            ]
          },
          "metadata": {
            "tags": []
          },
          "execution_count": 8
        }
      ]
    },
    {
      "cell_type": "code",
      "metadata": {
        "colab": {
          "base_uri": "https://localhost:8080/",
          "height": 297
        },
        "id": "lQT-BgK8rTNs",
        "outputId": "adeb1b21-21a1-4b78-9836-54276019e3a7"
      },
      "source": [
        "My_dataset.describe()"
      ],
      "execution_count": null,
      "outputs": [
        {
          "output_type": "execute_result",
          "data": {
            "text/html": [
              "<div>\n",
              "<style scoped>\n",
              "    .dataframe tbody tr th:only-of-type {\n",
              "        vertical-align: middle;\n",
              "    }\n",
              "\n",
              "    .dataframe tbody tr th {\n",
              "        vertical-align: top;\n",
              "    }\n",
              "\n",
              "    .dataframe thead th {\n",
              "        text-align: right;\n",
              "    }\n",
              "</style>\n",
              "<table border=\"1\" class=\"dataframe\">\n",
              "  <thead>\n",
              "    <tr style=\"text-align: right;\">\n",
              "      <th></th>\n",
              "      <th>Unnamed: 0</th>\n",
              "      <th>toxic</th>\n",
              "    </tr>\n",
              "  </thead>\n",
              "  <tbody>\n",
              "    <tr>\n",
              "      <th>count</th>\n",
              "      <td>5.312000e+05</td>\n",
              "      <td>531200.000000</td>\n",
              "    </tr>\n",
              "    <tr>\n",
              "      <th>mean</th>\n",
              "      <td>7.126769e+05</td>\n",
              "      <td>0.494785</td>\n",
              "    </tr>\n",
              "    <tr>\n",
              "      <th>std</th>\n",
              "      <td>5.000058e+05</td>\n",
              "      <td>0.499973</td>\n",
              "    </tr>\n",
              "    <tr>\n",
              "      <th>min</th>\n",
              "      <td>0.000000e+00</td>\n",
              "      <td>0.000000</td>\n",
              "    </tr>\n",
              "    <tr>\n",
              "      <th>25%</th>\n",
              "      <td>2.597188e+05</td>\n",
              "      <td>0.000000</td>\n",
              "    </tr>\n",
              "    <tr>\n",
              "      <th>50%</th>\n",
              "      <td>6.692715e+05</td>\n",
              "      <td>0.000000</td>\n",
              "    </tr>\n",
              "    <tr>\n",
              "      <th>75%</th>\n",
              "      <td>1.085969e+06</td>\n",
              "      <td>1.000000</td>\n",
              "    </tr>\n",
              "    <tr>\n",
              "      <th>max</th>\n",
              "      <td>1.902185e+06</td>\n",
              "      <td>1.000000</td>\n",
              "    </tr>\n",
              "  </tbody>\n",
              "</table>\n",
              "</div>"
            ],
            "text/plain": [
              "         Unnamed: 0          toxic\n",
              "count  5.312000e+05  531200.000000\n",
              "mean   7.126769e+05       0.494785\n",
              "std    5.000058e+05       0.499973\n",
              "min    0.000000e+00       0.000000\n",
              "25%    2.597188e+05       0.000000\n",
              "50%    6.692715e+05       0.000000\n",
              "75%    1.085969e+06       1.000000\n",
              "max    1.902185e+06       1.000000"
            ]
          },
          "metadata": {
            "tags": []
          },
          "execution_count": 9
        }
      ]
    },
    {
      "cell_type": "code",
      "metadata": {
        "colab": {
          "base_uri": "https://localhost:8080/"
        },
        "id": "S9Dtng5hwCeE",
        "outputId": "6cf04037-fbeb-4b24-a30f-c97663b170d7"
      },
      "source": [
        "My_dataset.columns"
      ],
      "execution_count": null,
      "outputs": [
        {
          "output_type": "execute_result",
          "data": {
            "text/plain": [
              "Index(['Unnamed: 0', 'comment_text', 'toxic'], dtype='object')"
            ]
          },
          "metadata": {
            "tags": []
          },
          "execution_count": 10
        }
      ]
    },
    {
      "cell_type": "code",
      "metadata": {
        "id": "LGniExX8wVcq"
      },
      "source": [
        "My_dataset.drop('Unnamed: 0' , axis='columns', inplace=True)"
      ],
      "execution_count": null,
      "outputs": []
    },
    {
      "cell_type": "code",
      "metadata": {
        "colab": {
          "base_uri": "https://localhost:8080/",
          "height": 204
        },
        "id": "lH1EfI1xwbOR",
        "outputId": "4cce2a3f-7858-4db3-ec6e-3111f88b4172"
      },
      "source": [
        "My_dataset.head(5) # get first 5 enteries"
      ],
      "execution_count": null,
      "outputs": [
        {
          "output_type": "execute_result",
          "data": {
            "text/html": [
              "<div>\n",
              "<style scoped>\n",
              "    .dataframe tbody tr th:only-of-type {\n",
              "        vertical-align: middle;\n",
              "    }\n",
              "\n",
              "    .dataframe tbody tr th {\n",
              "        vertical-align: top;\n",
              "    }\n",
              "\n",
              "    .dataframe thead th {\n",
              "        text-align: right;\n",
              "    }\n",
              "</style>\n",
              "<table border=\"1\" class=\"dataframe\">\n",
              "  <thead>\n",
              "    <tr style=\"text-align: right;\">\n",
              "      <th></th>\n",
              "      <th>comment_text</th>\n",
              "      <th>toxic</th>\n",
              "    </tr>\n",
              "  </thead>\n",
              "  <tbody>\n",
              "    <tr>\n",
              "      <th>0</th>\n",
              "      <td>No surprise at all. Trump cares little about a...</td>\n",
              "      <td>1.0</td>\n",
              "    </tr>\n",
              "    <tr>\n",
              "      <th>1</th>\n",
              "      <td>What an ugly, racist thing to say.  I don't kn...</td>\n",
              "      <td>1.0</td>\n",
              "    </tr>\n",
              "    <tr>\n",
              "      <th>2</th>\n",
              "      <td>because it is STILL illegal</td>\n",
              "      <td>0.0</td>\n",
              "    </tr>\n",
              "    <tr>\n",
              "      <th>3</th>\n",
              "      <td>Pleah.  Voyeurism is pathetic any time, but vo...</td>\n",
              "      <td>1.0</td>\n",
              "    </tr>\n",
              "    <tr>\n",
              "      <th>4</th>\n",
              "      <td>Мне жаль, но так оно и есть.</td>\n",
              "      <td>0.0</td>\n",
              "    </tr>\n",
              "  </tbody>\n",
              "</table>\n",
              "</div>"
            ],
            "text/plain": [
              "                                        comment_text  toxic\n",
              "0  No surprise at all. Trump cares little about a...    1.0\n",
              "1  What an ugly, racist thing to say.  I don't kn...    1.0\n",
              "2                        because it is STILL illegal    0.0\n",
              "3  Pleah.  Voyeurism is pathetic any time, but vo...    1.0\n",
              "4                       Мне жаль, но так оно и есть.    0.0"
            ]
          },
          "metadata": {
            "tags": []
          },
          "execution_count": 12
        }
      ]
    },
    {
      "cell_type": "markdown",
      "metadata": {
        "id": "LFfXn6wxyjnP"
      },
      "source": [
        "## Dataset Analysis "
      ]
    },
    {
      "cell_type": "code",
      "metadata": {
        "colab": {
          "base_uri": "https://localhost:8080/",
          "height": 271
        },
        "id": "t9FZ9ob1wiFL",
        "outputId": "3a7533cf-cd0e-41b5-93fa-c8a52f1a2b0d"
      },
      "source": [
        "# draw bar chart \n",
        "My_dataset.toxic.value_counts().plot(kind = 'bar') ; "
      ],
      "execution_count": null,
      "outputs": [
        {
          "output_type": "display_data",
          "data": {
            "image/png": "[encoded data removed]",
            "text/plain": [
              "<Figure size 432x288 with 1 Axes>"
            ]
          },
          "metadata": {
            "tags": [],
            "needs_background": "light"
          }
        }
      ]
    },
    {
      "cell_type": "code",
      "metadata": {
        "colab": {
          "base_uri": "https://localhost:8080/",
          "height": 248
        },
        "id": "tNzZQ6iuww6m",
        "outputId": "975efbaa-e5b0-48bd-cf4c-25eeea5b93e1"
      },
      "source": [
        "# Draw pie chart\n",
        "My_dataset.toxic.value_counts().plot(kind = 'pie',autopct='%.2f') ; \n"
      ],
      "execution_count": null,
      "outputs": [
        {
          "output_type": "display_data",
          "data": {
            "image/png": "[encoded data removed]",
            "text/plain": [
              "<Figure size 432x288 with 1 Axes>"
            ]
          },
          "metadata": {
            "tags": []
          }
        }
      ]
    },
    {
      "cell_type": "code",
      "metadata": {
        "colab": {
          "base_uri": "https://localhost:8080/"
        },
        "id": "ac7nAgEZxF6u",
        "outputId": "97b1b543-b6a8-491e-8388-6dac3c67e316"
      },
      "source": [
        "#Get shape / size of dataset\n",
        "My_dataset.shape"
      ],
      "execution_count": null,
      "outputs": [
        {
          "output_type": "execute_result",
          "data": {
            "text/plain": [
              "(531200, 2)"
            ]
          },
          "metadata": {
            "tags": []
          },
          "execution_count": 15
        }
      ]
    },
    {
      "cell_type": "code",
      "metadata": {
        "colab": {
          "base_uri": "https://localhost:8080/",
          "height": 979
        },
        "id": "noHnciFwxTIE",
        "outputId": "79282060-51c0-49be-b974-5628f86dd5d7"
      },
      "source": [
        "My_dataset.head(30)"
      ],
      "execution_count": null,
      "outputs": [
        {
          "output_type": "execute_result",
          "data": {
            "text/html": [
              "<div>\n",
              "<style scoped>\n",
              "    .dataframe tbody tr th:only-of-type {\n",
              "        vertical-align: middle;\n",
              "    }\n",
              "\n",
              "    .dataframe tbody tr th {\n",
              "        vertical-align: top;\n",
              "    }\n",
              "\n",
              "    .dataframe thead th {\n",
              "        text-align: right;\n",
              "    }\n",
              "</style>\n",
              "<table border=\"1\" class=\"dataframe\">\n",
              "  <thead>\n",
              "    <tr style=\"text-align: right;\">\n",
              "      <th></th>\n",
              "      <th>comment_text</th>\n",
              "      <th>toxic</th>\n",
              "    </tr>\n",
              "  </thead>\n",
              "  <tbody>\n",
              "    <tr>\n",
              "      <th>0</th>\n",
              "      <td>No surprise at all. Trump cares little about a...</td>\n",
              "      <td>1.0</td>\n",
              "    </tr>\n",
              "    <tr>\n",
              "      <th>1</th>\n",
              "      <td>What an ugly, racist thing to say.  I don't kn...</td>\n",
              "      <td>1.0</td>\n",
              "    </tr>\n",
              "    <tr>\n",
              "      <th>2</th>\n",
              "      <td>because it is STILL illegal</td>\n",
              "      <td>0.0</td>\n",
              "    </tr>\n",
              "    <tr>\n",
              "      <th>3</th>\n",
              "      <td>Pleah.  Voyeurism is pathetic any time, but vo...</td>\n",
              "      <td>1.0</td>\n",
              "    </tr>\n",
              "    <tr>\n",
              "      <th>4</th>\n",
              "      <td>Мне жаль, но так оно и есть.</td>\n",
              "      <td>0.0</td>\n",
              "    </tr>\n",
              "    <tr>\n",
              "      <th>5</th>\n",
              "      <td>Sağol baba çok sağol</td>\n",
              "      <td>0.0</td>\n",
              "    </tr>\n",
              "    <tr>\n",
              "      <th>6</th>\n",
              "      <td>All of Canada has seen real estate increase bu...</td>\n",
              "      <td>0.0</td>\n",
              "    </tr>\n",
              "    <tr>\n",
              "      <th>7</th>\n",
              "      <td>Are you one of Hillary's mad lovers?</td>\n",
              "      <td>1.0</td>\n",
              "    </tr>\n",
              "    <tr>\n",
              "      <th>8</th>\n",
              "      <td>Наш президент – жирный вонючий пиндос</td>\n",
              "      <td>1.0</td>\n",
              "    </tr>\n",
              "    <tr>\n",
              "      <th>9</th>\n",
              "      <td>I was wrong in stating he takes hormones--ther...</td>\n",
              "      <td>1.0</td>\n",
              "    </tr>\n",
              "    <tr>\n",
              "      <th>10</th>\n",
              "      <td>Muito bem, então... Quanto me vai custar?</td>\n",
              "      <td>0.0</td>\n",
              "    </tr>\n",
              "    <tr>\n",
              "      <th>11</th>\n",
              "      <td>Patrick Brown won the PC party leadership by f...</td>\n",
              "      <td>0.0</td>\n",
              "    </tr>\n",
              "    <tr>\n",
              "      <th>12</th>\n",
              "      <td>Damned if you do, damned if you don't. This ty...</td>\n",
              "      <td>1.0</td>\n",
              "    </tr>\n",
              "    <tr>\n",
              "      <th>13</th>\n",
              "      <td>Serviu com ele naquela organização específica?</td>\n",
              "      <td>0.0</td>\n",
              "    </tr>\n",
              "    <tr>\n",
              "      <th>14</th>\n",
              "      <td>Я никогда ни на секунду не думала, что ты буде...</td>\n",
              "      <td>1.0</td>\n",
              "    </tr>\n",
              "    <tr>\n",
              "      <th>15</th>\n",
              "      <td>Porra, teu pai luta como o Diabo...</td>\n",
              "      <td>1.0</td>\n",
              "    </tr>\n",
              "    <tr>\n",
              "      <th>16</th>\n",
              "      <td>МУЗЫКА НА ТВ: Wonderwall by Oasis</td>\n",
              "      <td>0.0</td>\n",
              "    </tr>\n",
              "    <tr>\n",
              "      <th>17</th>\n",
              "      <td>Não como metade destas malditas que pensam que...</td>\n",
              "      <td>1.0</td>\n",
              "    </tr>\n",
              "    <tr>\n",
              "      <th>18</th>\n",
              "      <td>Ainda podemos negociar?</td>\n",
              "      <td>0.0</td>\n",
              "    </tr>\n",
              "    <tr>\n",
              "      <th>19</th>\n",
              "      <td>Ta mère est vachement belle, Suzi.</td>\n",
              "      <td>1.0</td>\n",
              "    </tr>\n",
              "    <tr>\n",
              "      <th>20</th>\n",
              "      <td>Ronnie, kıçını olgun bir karnıbahar gibi hisse...</td>\n",
              "      <td>1.0</td>\n",
              "    </tr>\n",
              "    <tr>\n",
              "      <th>21</th>\n",
              "      <td>Acho que chegou o momento...</td>\n",
              "      <td>0.0</td>\n",
              "    </tr>\n",
              "    <tr>\n",
              "      <th>22</th>\n",
              "      <td>Stai giocando?</td>\n",
              "      <td>0.0</td>\n",
              "    </tr>\n",
              "    <tr>\n",
              "      <th>23</th>\n",
              "      <td>Credi che si meritasse di morire per la sua st...</td>\n",
              "      <td>1.0</td>\n",
              "    </tr>\n",
              "    <tr>\n",
              "      <th>24</th>\n",
              "      <td>Vur şu orospu çocuğunu, Davis'e doğrulttu!</td>\n",
              "      <td>1.0</td>\n",
              "    </tr>\n",
              "    <tr>\n",
              "      <th>25</th>\n",
              "      <td>- Sei ancora più cazzaro di quello che dicono ...</td>\n",
              "      <td>1.0</td>\n",
              "    </tr>\n",
              "    <tr>\n",
              "      <th>26</th>\n",
              "      <td>- Mas, isto é demais...</td>\n",
              "      <td>0.0</td>\n",
              "    </tr>\n",
              "    <tr>\n",
              "      <th>27</th>\n",
              "      <td>The scumbag left wants free speech to be only ...</td>\n",
              "      <td>1.0</td>\n",
              "    </tr>\n",
              "    <tr>\n",
              "      <th>28</th>\n",
              "      <td>Siz kim oluyonuz da bu bok çukurunu bizden önc...</td>\n",
              "      <td>1.0</td>\n",
              "    </tr>\n",
              "    <tr>\n",
              "      <th>29</th>\n",
              "      <td>Biz kafası çalışmayan fahişeler günlerimizi bö...</td>\n",
              "      <td>1.0</td>\n",
              "    </tr>\n",
              "  </tbody>\n",
              "</table>\n",
              "</div>"
            ],
            "text/plain": [
              "                                         comment_text  toxic\n",
              "0   No surprise at all. Trump cares little about a...    1.0\n",
              "1   What an ugly, racist thing to say.  I don't kn...    1.0\n",
              "2                         because it is STILL illegal    0.0\n",
              "3   Pleah.  Voyeurism is pathetic any time, but vo...    1.0\n",
              "4                        Мне жаль, но так оно и есть.    0.0\n",
              "5                                Sağol baba çok sağol    0.0\n",
              "6   All of Canada has seen real estate increase bu...    0.0\n",
              "7                Are you one of Hillary's mad lovers?    1.0\n",
              "8               Наш президент – жирный вонючий пиндос    1.0\n",
              "9   I was wrong in stating he takes hormones--ther...    1.0\n",
              "10          Muito bem, então... Quanto me vai custar?    0.0\n",
              "11  Patrick Brown won the PC party leadership by f...    0.0\n",
              "12  Damned if you do, damned if you don't. This ty...    1.0\n",
              "13     Serviu com ele naquela organização específica?    0.0\n",
              "14  Я никогда ни на секунду не думала, что ты буде...    1.0\n",
              "15                Porra, teu pai luta como o Diabo...    1.0\n",
              "16                  МУЗЫКА НА ТВ: Wonderwall by Oasis    0.0\n",
              "17  Não como metade destas malditas que pensam que...    1.0\n",
              "18                            Ainda podemos negociar?    0.0\n",
              "19                 Ta mère est vachement belle, Suzi.    1.0\n",
              "20  Ronnie, kıçını olgun bir karnıbahar gibi hisse...    1.0\n",
              "21                       Acho que chegou o momento...    0.0\n",
              "22                                     Stai giocando?    0.0\n",
              "23  Credi che si meritasse di morire per la sua st...    1.0\n",
              "24         Vur şu orospu çocuğunu, Davis'e doğrulttu!    1.0\n",
              "25  - Sei ancora più cazzaro di quello che dicono ...    1.0\n",
              "26                            - Mas, isto é demais...    0.0\n",
              "27  The scumbag left wants free speech to be only ...    1.0\n",
              "28  Siz kim oluyonuz da bu bok çukurunu bizden önc...    1.0\n",
              "29  Biz kafası çalışmayan fahişeler günlerimizi bö...    1.0"
            ]
          },
          "metadata": {
            "tags": []
          },
          "execution_count": 16
        }
      ]
    },
    {
      "cell_type": "markdown",
      "metadata": {
        "id": "yZsSQmjv2sQZ"
      },
      "source": [
        "\n",
        "\n",
        "# Doing Necessary Imports "
      ]
    },
    {
      "cell_type": "code",
      "metadata": {
        "id": "L2RZjFCf2sQf",
        "colab": {
          "base_uri": "https://localhost:8080/"
        },
        "outputId": "d93d3c2b-0612-49be-ec19-8877569e09f1"
      },
      "source": [
        "\n",
        "# Import to list directories \n",
        "import os\n",
        "\n",
        "print(os.getcwd())\n",
        "print(os.listdir(os.getcwd()))\n",
        "\n",
        "### import for time and time monitoring \n",
        "import time\n",
        "## Imports for Metrics operations \n",
        "import numpy as np \n",
        "## Imports for dataframes and .csv managment\n",
        "import pandas as pd \n",
        "\n",
        "# TensorFlow library  Imports\n",
        "import tensorflow as tf\n",
        "print(\"tf version: \", tf.__version__)\n",
        "\n",
        "\n",
        "os.system('pip install swish-activation')\n",
        "\n",
        "\n",
        "import swish_package\n",
        "from swish_package import swish\n",
        "\n",
        "\n",
        "\n",
        "# Keras (backended with Tensorflow) Imports\n",
        "from tensorflow import keras\n",
        "from tensorflow.keras import backend as K\n",
        "from tensorflow.keras.models import Sequential, Model\n",
        "from tensorflow.keras.layers import Dense, Dropout, Input\n",
        "from tensorflow.keras.optimizers import Adam\n",
        "from tensorflow.keras.callbacks import EarlyStopping, ModelCheckpoint, LearningRateScheduler\n",
        "from tensorflow.keras.callbacks import CSVLogger\n",
        "\n",
        "# Sklearn package for machine learining models \n",
        "## WILL BE USED TO SPLIT  TRAIN_VAL DATASETS\n",
        "from sklearn import metrics\n",
        "from sklearn.model_selection import train_test_split\n",
        "\n",
        "# Garbage Collectors\n",
        "import gc\n",
        "import sys\n",
        "\n",
        "## Install Transformers \n",
        "os.system('pip install transformers==2.10')\n",
        "\n",
        "\n",
        "\n",
        "# Import Transformers to get Tokenizer for bert and bert models\n",
        "\n",
        "import transformers\n",
        "from transformers import DistilBertTokenizer, TFDistilBertModel \n"
      ],
      "execution_count": null,
      "outputs": [
        {
          "output_type": "stream",
          "text": [
            "/content\n",
            "['.config', 'jigsaw-multilingual-aug-mix.zip', 'jigsaw_mjy_train_val_openaug_523200.csv', 'kaggle.json', 'train_augmented1605_downsample.csv', 'sample_data']\n",
            "tf version:  2.4.0\n"
          ],
          "name": "stdout"
        }
      ]
    },
    {
      "cell_type": "markdown",
      "metadata": {
        "id": "CeSaM5th2sRC"
      },
      "source": [
        "#  <font size = 40 font color = 'Grey'> MODELING"
      ]
    },
    {
      "cell_type": "markdown",
      "metadata": {
        "id": "EbaesNMvzWUe"
      },
      "source": [
        "#Intialize TPUs\n",
        "<font color ='Orange'>In this part of code <br>\n",
        "- TPUs is connected and intialized \n",
        "- Tensorflows's Training strategy is set to TPUStrategy to allow tpus to carry on training \n",
        "\n",
        "<img src = https://cloud.google.com/images/products/tpu/google-cloud-ai.png>\n"
      ]
    },
    {
      "cell_type": "code",
      "metadata": {
        "colab": {
          "base_uri": "https://localhost:8080/"
        },
        "id": "iNmjy_PFy9-I",
        "outputId": "c5b994ac-0751-4ff7-e12f-8985b863f087"
      },
      "source": [
        "try:\n",
        "    tpu = tf.distribute.cluster_resolver.TPUClusterResolver();\n",
        "    tf.config.experimental_connect_to_cluster(tpu);\n",
        "    tf.tpu.experimental.initialize_tpu_system(tpu);\n",
        "    strategy = tf.distribute.TPUStrategy(tpu);\n",
        "except ValueError:\n",
        "    tpu = None\n",
        "    strategy = tf.distribute.MirroredStrategy()\n",
        "      "
      ],
      "execution_count": null,
      "outputs": [
        {
          "output_type": "stream",
          "text": [
            "INFO:absl:Entering into master device scope: /job:worker/replica:0/task:0/device:CPU:0\n"
          ],
          "name": "stderr"
        },
        {
          "output_type": "stream",
          "text": [
            "INFO:tensorflow:Initializing the TPU system: grpc://10.47.143.98:8470\n"
          ],
          "name": "stdout"
        },
        {
          "output_type": "stream",
          "text": [
            "INFO:tensorflow:Initializing the TPU system: grpc://10.47.143.98:8470\n"
          ],
          "name": "stderr"
        },
        {
          "output_type": "stream",
          "text": [
            "INFO:tensorflow:Clearing out eager caches\n"
          ],
          "name": "stdout"
        },
        {
          "output_type": "stream",
          "text": [
            "INFO:tensorflow:Clearing out eager caches\n"
          ],
          "name": "stderr"
        },
        {
          "output_type": "stream",
          "text": [
            "INFO:tensorflow:Finished initializing TPU system.\n"
          ],
          "name": "stdout"
        },
        {
          "output_type": "stream",
          "text": [
            "INFO:tensorflow:Finished initializing TPU system.\n"
          ],
          "name": "stderr"
        },
        {
          "output_type": "stream",
          "text": [
            "INFO:tensorflow:Found TPU system:\n"
          ],
          "name": "stdout"
        },
        {
          "output_type": "stream",
          "text": [
            "INFO:tensorflow:Found TPU system:\n"
          ],
          "name": "stderr"
        },
        {
          "output_type": "stream",
          "text": [
            "INFO:tensorflow:*** Num TPU Cores: 8\n"
          ],
          "name": "stdout"
        },
        {
          "output_type": "stream",
          "text": [
            "INFO:tensorflow:*** Num TPU Cores: 8\n"
          ],
          "name": "stderr"
        },
        {
          "output_type": "stream",
          "text": [
            "INFO:tensorflow:*** Num TPU Workers: 1\n"
          ],
          "name": "stdout"
        },
        {
          "output_type": "stream",
          "text": [
            "INFO:tensorflow:*** Num TPU Workers: 1\n"
          ],
          "name": "stderr"
        },
        {
          "output_type": "stream",
          "text": [
            "INFO:tensorflow:*** Num TPU Cores Per Worker: 8\n"
          ],
          "name": "stdout"
        },
        {
          "output_type": "stream",
          "text": [
            "INFO:tensorflow:*** Num TPU Cores Per Worker: 8\n"
          ],
          "name": "stderr"
        },
        {
          "output_type": "stream",
          "text": [
            "INFO:tensorflow:*** Available Device: _DeviceAttributes(/job:localhost/replica:0/task:0/device:CPU:0, CPU, 0, 0)\n"
          ],
          "name": "stdout"
        },
        {
          "output_type": "stream",
          "text": [
            "INFO:tensorflow:*** Available Device: _DeviceAttributes(/job:localhost/replica:0/task:0/device:CPU:0, CPU, 0, 0)\n"
          ],
          "name": "stderr"
        },
        {
          "output_type": "stream",
          "text": [
            "INFO:tensorflow:*** Available Device: _DeviceAttributes(/job:worker/replica:0/task:0/device:CPU:0, CPU, 0, 0)\n"
          ],
          "name": "stdout"
        },
        {
          "output_type": "stream",
          "text": [
            "INFO:tensorflow:*** Available Device: _DeviceAttributes(/job:worker/replica:0/task:0/device:CPU:0, CPU, 0, 0)\n"
          ],
          "name": "stderr"
        },
        {
          "output_type": "stream",
          "text": [
            "INFO:tensorflow:*** Available Device: _DeviceAttributes(/job:worker/replica:0/task:0/device:TPU:0, TPU, 0, 0)\n"
          ],
          "name": "stdout"
        },
        {
          "output_type": "stream",
          "text": [
            "INFO:tensorflow:*** Available Device: _DeviceAttributes(/job:worker/replica:0/task:0/device:TPU:0, TPU, 0, 0)\n"
          ],
          "name": "stderr"
        },
        {
          "output_type": "stream",
          "text": [
            "INFO:tensorflow:*** Available Device: _DeviceAttributes(/job:worker/replica:0/task:0/device:TPU:1, TPU, 0, 0)\n"
          ],
          "name": "stdout"
        },
        {
          "output_type": "stream",
          "text": [
            "INFO:tensorflow:*** Available Device: _DeviceAttributes(/job:worker/replica:0/task:0/device:TPU:1, TPU, 0, 0)\n"
          ],
          "name": "stderr"
        },
        {
          "output_type": "stream",
          "text": [
            "INFO:tensorflow:*** Available Device: _DeviceAttributes(/job:worker/replica:0/task:0/device:TPU:2, TPU, 0, 0)\n"
          ],
          "name": "stdout"
        },
        {
          "output_type": "stream",
          "text": [
            "INFO:tensorflow:*** Available Device: _DeviceAttributes(/job:worker/replica:0/task:0/device:TPU:2, TPU, 0, 0)\n"
          ],
          "name": "stderr"
        },
        {
          "output_type": "stream",
          "text": [
            "INFO:tensorflow:*** Available Device: _DeviceAttributes(/job:worker/replica:0/task:0/device:TPU:3, TPU, 0, 0)\n"
          ],
          "name": "stdout"
        },
        {
          "output_type": "stream",
          "text": [
            "INFO:tensorflow:*** Available Device: _DeviceAttributes(/job:worker/replica:0/task:0/device:TPU:3, TPU, 0, 0)\n"
          ],
          "name": "stderr"
        },
        {
          "output_type": "stream",
          "text": [
            "INFO:tensorflow:*** Available Device: _DeviceAttributes(/job:worker/replica:0/task:0/device:TPU:4, TPU, 0, 0)\n"
          ],
          "name": "stdout"
        },
        {
          "output_type": "stream",
          "text": [
            "INFO:tensorflow:*** Available Device: _DeviceAttributes(/job:worker/replica:0/task:0/device:TPU:4, TPU, 0, 0)\n"
          ],
          "name": "stderr"
        },
        {
          "output_type": "stream",
          "text": [
            "INFO:tensorflow:*** Available Device: _DeviceAttributes(/job:worker/replica:0/task:0/device:TPU:5, TPU, 0, 0)\n"
          ],
          "name": "stdout"
        },
        {
          "output_type": "stream",
          "text": [
            "INFO:tensorflow:*** Available Device: _DeviceAttributes(/job:worker/replica:0/task:0/device:TPU:5, TPU, 0, 0)\n"
          ],
          "name": "stderr"
        },
        {
          "output_type": "stream",
          "text": [
            "INFO:tensorflow:*** Available Device: _DeviceAttributes(/job:worker/replica:0/task:0/device:TPU:6, TPU, 0, 0)\n"
          ],
          "name": "stdout"
        },
        {
          "output_type": "stream",
          "text": [
            "INFO:tensorflow:*** Available Device: _DeviceAttributes(/job:worker/replica:0/task:0/device:TPU:6, TPU, 0, 0)\n"
          ],
          "name": "stderr"
        },
        {
          "output_type": "stream",
          "text": [
            "INFO:tensorflow:*** Available Device: _DeviceAttributes(/job:worker/replica:0/task:0/device:TPU:7, TPU, 0, 0)\n"
          ],
          "name": "stdout"
        },
        {
          "output_type": "stream",
          "text": [
            "INFO:tensorflow:*** Available Device: _DeviceAttributes(/job:worker/replica:0/task:0/device:TPU:7, TPU, 0, 0)\n"
          ],
          "name": "stderr"
        },
        {
          "output_type": "stream",
          "text": [
            "INFO:tensorflow:*** Available Device: _DeviceAttributes(/job:worker/replica:0/task:0/device:TPU_SYSTEM:0, TPU_SYSTEM, 0, 0)\n"
          ],
          "name": "stdout"
        },
        {
          "output_type": "stream",
          "text": [
            "INFO:tensorflow:*** Available Device: _DeviceAttributes(/job:worker/replica:0/task:0/device:TPU_SYSTEM:0, TPU_SYSTEM, 0, 0)\n"
          ],
          "name": "stderr"
        },
        {
          "output_type": "stream",
          "text": [
            "INFO:tensorflow:*** Available Device: _DeviceAttributes(/job:worker/replica:0/task:0/device:XLA_CPU:0, XLA_CPU, 0, 0)\n"
          ],
          "name": "stdout"
        },
        {
          "output_type": "stream",
          "text": [
            "INFO:tensorflow:*** Available Device: _DeviceAttributes(/job:worker/replica:0/task:0/device:XLA_CPU:0, XLA_CPU, 0, 0)\n"
          ],
          "name": "stderr"
        }
      ]
    },
    {
      "cell_type": "markdown",
      "metadata": {
        "id": "MPP802IC03lJ"
      },
      "source": [
        "#Defining Paramter and Hyperparameters \n",
        "<font color ='Orange'>In this part of code <br>\n",
        "- Parameters is set to be used in upcoming parts\n",
        "- HyperParameters is set to be used in upcoming parts\n"
      ]
    },
    {
      "cell_type": "code",
      "metadata": {
        "id": "CIybJRBj04RH"
      },
      "source": [
        "# Configuration\n",
        "num_of_rep = strategy.num_replicas_in_sync\n",
        "BATCH_SIZE = 32 * num_of_rep\n",
        "EPOCHS = 20\n",
        "MAX_LEN = 192\n",
        "opt = Adam(lr=1e-5)\n",
        "loss = 'binary_crossentropy'\n",
        "metrics=['accuracy']"
      ],
      "execution_count": null,
      "outputs": []
    },
    {
      "cell_type": "markdown",
      "metadata": {
        "id": "UlVNcXzpyRGp"
      },
      "source": [
        "# BERT Tokenizer\n",
        "<font color ='Orange'>In this part of code <br>\n",
        "\n",
        "- To feed our text to BERT : \n",
        " -  It must be split into tokens.<br> \n",
        " - And then these tokens must be mapped to their index in the tokenizer vocabulary.<br>\n",
        " - The tokenization must be performed by the tokenizer included with BERT which is bert uncased .\n",
        "<img src = 'https://jalammar.github.io/images/distilBERT/bert-distilbert-input-tokenization.png'>"
      ]
    },
    {
      "cell_type": "code",
      "metadata": {
        "id": "IQjw0wfc24_a",
        "colab": {
          "base_uri": "https://localhost:8080/",
          "height": 66,
          "referenced_widgets": [
            "f8bee69dc4f748daae244023007c9e02",
            "f8fd896e4fb64525b58efebafd26bbf2",
            "fe8d86261fc8411786dcf84c1b8e4a9b",
            "af9d9cbf3b04464e856c1160417b50a8",
            "c1fd147acd714027bb002406e54cf2b3",
            "7b9be71847a44f0994d4d51b09c25303",
            "f9271235fdad4c7da8560c36fe68ac7a",
            "520104b1e6c94f00b78ed6d233c2b320"
          ]
        },
        "outputId": "d694df74-2492-4303-e997-53bd0f0364d9"
      },
      "source": [
        "tokenizer = DistilBertTokenizer.from_pretrained('distilbert-base-multilingual-cased')"
      ],
      "execution_count": null,
      "outputs": [
        {
          "output_type": "display_data",
          "data": {
            "application/vnd.jupyter.widget-view+json": {
              "model_id": "f8bee69dc4f748daae244023007c9e02",
              "version_minor": 0,
              "version_major": 2
            },
            "text/plain": [
              "HBox(children=(FloatProgress(value=0.0, description='Downloading', max=995526.0, style=ProgressStyle(descripti…"
            ]
          },
          "metadata": {
            "tags": []
          }
        },
        {
          "output_type": "stream",
          "text": [
            "\n"
          ],
          "name": "stdout"
        }
      ]
    },
    {
      "cell_type": "markdown",
      "metadata": {
        "id": "t3nm3SHl3BCA"
      },
      "source": [
        "# Preparing Data for Model \n",
        "<font color ='Orange'>In this part of code <br>\n",
        "\n",
        "- Define our training features(scentences) and labels(toxic or not)\n",
        "- Create validation set and training set \n",
        "\n"
      ]
    },
    {
      "cell_type": "code",
      "metadata": {
        "id": "e6T-PIeE4c1F"
      },
      "source": [
        "def encode(scentences, tokenizer, max_length):\n",
        "    encode = tokenizer.batch_encode_plus(scentences,return_attention_masks=False, \n",
        "        return_token_type_ids=False, pad_to_max_length=True, max_length=max_length\n",
        "    )\n",
        "    encoding_id = np.array(encode['input_ids'])\n",
        "    return encoding_id\n",
        "\n",
        "train = pd.read_csv('/content/jigsaw_mjy_train_val_openaug_523200.csv')\n",
        "x_train = encode(train.comment_text.values, tokenizer,MAX_LEN)\n",
        "y_train = train.toxic.values\n",
        "\n",
        "x_train, x_valid, y_train, y_valid = train_test_split(x_train, y_train, \n",
        "                                                      test_size=0.20)\n",
        "\n",
        "train_dataset = (\n",
        "    tf.data.Dataset.from_tensor_slices((x_train, y_train)).repeat().shuffle(2048).batch(BATCH_SIZE).prefetch(tf.data.experimental.AUTOTUNE)\n",
        ")\n",
        "\n",
        "valid_dataset = (\n",
        "    tf.data.Dataset.from_tensor_slices((x_valid, y_valid)).batch(BATCH_SIZE).cache().prefetch(tf.data.experimental.AUTOTUNE)\n",
        "    )\n"
      ],
      "execution_count": null,
      "outputs": []
    },
    {
      "cell_type": "markdown",
      "metadata": {
        "id": "hwrYM8fZ4lXU"
      },
      "source": [
        "# Creating the Model  \n",
        "<font color ='Orange'>In this part of code <br>\n",
        "- Create Input Layer of length 196 which is  Max length \n",
        "- Create pretrained bert Transformer layer   \n",
        "- get cls token from transformer layer and feed to an output layer of one node (Which is our prediction either <br>\n",
        " - One if Toxic <br> \n",
        "  - zero if not  )\n",
        "\n",
        "<img src = https://miro.medium.com/max/2048/1*pA9nonGgrKX_v5Zwq3JJiQ.png>\n"
      ]
    },
    {
      "cell_type": "code",
      "metadata": {
        "colab": {
          "base_uri": "https://localhost:8080/",
          "height": 387,
          "referenced_widgets": [
            "416dae6f917d42c09148bbae547d8373",
            "ccc4124b2213408da37b2626cf2f172d",
            "cac56131c10b489685e44e9f04c8582e",
            "851775425e784d03afc6071596fd3f6b",
            "0a64faec68d54a93a3f43315ccc3d658",
            "281b49a247e9492c8ef59c4acb7528cf",
            "df229fd751e1444c8ed984b784d1187f",
            "a7ac7ab4a44e47e69b827addb51c7568",
            "ff9f07990455417b884e78cbaa414bc2",
            "99072a9c9dd0406e83bd040163afd596",
            "008da3dbd2ff4295a63fd6ba8ec49327",
            "f068ac80b6484acb919c18974c45b927",
            "ec3430ef14484cd4b5ce9cc374e94130",
            "1246bc8f2ed4430c831170395ba513b4",
            "1794fb99fb1b461b9872240227b07007",
            "5c0bee7edaf340678d245a2532ab51cf"
          ]
        },
        "id": "K2E6KPR65zwf",
        "outputId": "94fa8a71-20ad-4d80-dd31-d20969de3e41"
      },
      "source": [
        "with strategy.scope():\n",
        "    transformer_layer = TFDistilBertModel.from_pretrained('distilbert-base-multilingual-cased')# get pre-trained bert transformer\n",
        "    input_word_ids = Input(shape=(MAX_LEN,), dtype=tf.int32, name=\"input_word_ids\") # Keras Input layer \n",
        "    sequence_output = transformer_layer(input_word_ids)[0] # Get the seq output from Transformer layer provided\n",
        "    cls_token = sequence_output[:, 0, :] # get cls tokkens from each scentence to feed to output\n",
        "    out = Dense(1, activation='sigmoid')(cls_token) # create output layer with one node <Binary Classification>\n",
        "    model = Model(inputs=input_word_ids, outputs=out) # Create Model\n",
        "    model.compile(optimizer=opt, \n",
        "                  loss=loss, metrics=metrics) # Compile model\n",
        "model.summary()"
      ],
      "execution_count": null,
      "outputs": [
        {
          "output_type": "display_data",
          "data": {
            "application/vnd.jupyter.widget-view+json": {
              "model_id": "416dae6f917d42c09148bbae547d8373",
              "version_minor": 0,
              "version_major": 2
            },
            "text/plain": [
              "HBox(children=(FloatProgress(value=0.0, description='Downloading', max=466.0, style=ProgressStyle(description_…"
            ]
          },
          "metadata": {
            "tags": []
          }
        },
        {
          "output_type": "stream",
          "text": [
            "\n"
          ],
          "name": "stdout"
        },
        {
          "output_type": "display_data",
          "data": {
            "application/vnd.jupyter.widget-view+json": {
              "model_id": "ff9f07990455417b884e78cbaa414bc2",
              "version_minor": 0,
              "version_major": 2
            },
            "text/plain": [
              "HBox(children=(FloatProgress(value=0.0, description='Downloading', max=910749124.0, style=ProgressStyle(descri…"
            ]
          },
          "metadata": {
            "tags": []
          }
        },
        {
          "output_type": "stream",
          "text": [
            "\n",
            "Model: \"model\"\n",
            "_________________________________________________________________\n",
            "Layer (type)                 Output Shape              Param #   \n",
            "=================================================================\n",
            "input_word_ids (InputLayer)  [(None, 192)]             0         \n",
            "_________________________________________________________________\n",
            "tf_distil_bert_model (TFDist ((None, 192, 768),)       134734080 \n",
            "_________________________________________________________________\n",
            "tf.__operators__.getitem (Sl (None, 768)               0         \n",
            "_________________________________________________________________\n",
            "dense (Dense)                (None, 1)                 769       \n",
            "=================================================================\n",
            "Total params: 134,734,849\n",
            "Trainable params: 134,734,849\n",
            "Non-trainable params: 0\n",
            "_________________________________________________________________\n"
          ],
          "name": "stdout"
        }
      ]
    },
    {
      "cell_type": "markdown",
      "metadata": {
        "id": "wtSNyQCt6ntT"
      },
      "source": [
        "# Training  the Model  \n",
        "<font color ='Orange'>In this part of code <br>\n",
        "- Train the model \n",
        "\n",
        "\n"
      ]
    },
    {
      "cell_type": "code",
      "metadata": {
        "colab": {
          "base_uri": "https://localhost:8080/"
        },
        "id": "tDmU2_zL6oNS",
        "outputId": "a6651e1e-4d96-48f4-de13-74dcd6bf2690"
      },
      "source": [
        "train_history = model.fit(\n",
        "    train_dataset,\n",
        "    steps_per_epoch=x_train.shape[0] // BATCH_SIZE,\n",
        "    validation_data=valid_dataset,\n",
        "    epochs=EPOCHS\n",
        ")"
      ],
      "execution_count": null,
      "outputs": [
        {
          "output_type": "stream",
          "text": [
            "Epoch 1/20\n",
            "1660/1660 [==============================] - 363s 193ms/step - loss: 0.3693 - accuracy: 0.8191 - val_loss: 0.2049 - val_accuracy: 0.9185\n",
            "Epoch 2/20\n",
            "1660/1660 [==============================] - 314s 189ms/step - loss: 0.2010 - accuracy: 0.9195 - val_loss: 0.1874 - val_accuracy: 0.9269\n",
            "Epoch 3/20\n",
            "1660/1660 [==============================] - 314s 189ms/step - loss: 0.1721 - accuracy: 0.9325 - val_loss: 0.1907 - val_accuracy: 0.9267\n",
            "Epoch 4/20\n",
            "1660/1660 [==============================] - 314s 189ms/step - loss: 0.1507 - accuracy: 0.9415 - val_loss: 0.1831 - val_accuracy: 0.9317\n",
            "Epoch 5/20\n",
            "1660/1660 [==============================] - 314s 189ms/step - loss: 0.1322 - accuracy: 0.9494 - val_loss: 0.1937 - val_accuracy: 0.9305\n",
            "Epoch 6/20\n",
            "1660/1660 [==============================] - 314s 189ms/step - loss: 0.1160 - accuracy: 0.9559 - val_loss: 0.1999 - val_accuracy: 0.9305\n",
            "Epoch 7/20\n",
            "1660/1660 [==============================] - 314s 189ms/step - loss: 0.0993 - accuracy: 0.9622 - val_loss: 0.2225 - val_accuracy: 0.9304\n",
            "Epoch 8/20\n",
            "1660/1660 [==============================] - 315s 190ms/step - loss: 0.0856 - accuracy: 0.9681 - val_loss: 0.2305 - val_accuracy: 0.9300\n",
            "Epoch 9/20\n",
            "1660/1660 [==============================] - 314s 189ms/step - loss: 0.0718 - accuracy: 0.9734 - val_loss: 0.2549 - val_accuracy: 0.9287\n",
            "Epoch 10/20\n",
            "1660/1660 [==============================] - 314s 189ms/step - loss: 0.0619 - accuracy: 0.9775 - val_loss: 0.2685 - val_accuracy: 0.9269\n",
            "Epoch 11/20\n",
            "1660/1660 [==============================] - 315s 190ms/step - loss: 0.0526 - accuracy: 0.9808 - val_loss: 0.2841 - val_accuracy: 0.9290\n",
            "Epoch 12/20\n",
            "1660/1660 [==============================] - 314s 189ms/step - loss: 0.0439 - accuracy: 0.9843 - val_loss: 0.3024 - val_accuracy: 0.9262\n",
            "Epoch 13/20\n",
            "1660/1660 [==============================] - 315s 189ms/step - loss: 0.0379 - accuracy: 0.9862 - val_loss: 0.3263 - val_accuracy: 0.9267\n",
            "Epoch 14/20\n",
            "1660/1660 [==============================] - 315s 189ms/step - loss: 0.0327 - accuracy: 0.9884 - val_loss: 0.3414 - val_accuracy: 0.9254\n",
            "Epoch 15/20\n",
            "1660/1660 [==============================] - 314s 189ms/step - loss: 0.0281 - accuracy: 0.9898 - val_loss: 0.3426 - val_accuracy: 0.9264\n",
            "Epoch 16/20\n",
            "1660/1660 [==============================] - 314s 189ms/step - loss: 0.0256 - accuracy: 0.9906 - val_loss: 0.3655 - val_accuracy: 0.9263\n",
            "Epoch 17/20\n",
            "1660/1660 [==============================] - 314s 189ms/step - loss: 0.0221 - accuracy: 0.9921 - val_loss: 0.3921 - val_accuracy: 0.9268\n",
            "Epoch 18/20\n",
            "1660/1660 [==============================] - 315s 190ms/step - loss: 0.0206 - accuracy: 0.9924 - val_loss: 0.3968 - val_accuracy: 0.9268\n",
            "Epoch 19/20\n",
            "1660/1660 [==============================] - 316s 190ms/step - loss: 0.0180 - accuracy: 0.9936 - val_loss: 0.3939 - val_accuracy: 0.9267\n",
            "Epoch 20/20\n",
            "1660/1660 [==============================] - ETA: 0s - loss: 0.0172 - accuracy: 0.9939"
          ],
          "name": "stdout"
        }
      ]
    },
    {
      "cell_type": "markdown",
      "metadata": {
        "id": "lsOjn24q_BSS"
      },
      "source": [
        "#  <font size = 40 font color = 'Grey'> TESTING MODEL\n",
        "## <font color = 'orange'> In this part of code : \n",
        "- Different Datasets is used for testing\n",
        "- Every Dataset is analyzed and tested \n",
        "- Calculate accuracy for each test dataset"
      ]
    },
    {
      "cell_type": "markdown",
      "metadata": {
        "id": "0p0c9PcyHee7"
      },
      "source": [
        "## Dataset Found at \n",
        "https://www.kaggle.com/c/jigsaw-multilingual-toxic-comment-classification"
      ]
    },
    {
      "cell_type": "code",
      "metadata": {
        "colab": {
          "base_uri": "https://localhost:8080/"
        },
        "id": "JpGD6BVPqwYl",
        "outputId": "7b031041-b889-4092-e923-c637a37809d4"
      },
      "source": [
        "!kaggle competitions download -c jigsaw-multilingual-toxic-comment-classification "
      ],
      "execution_count": null,
      "outputs": [
        {
          "output_type": "stream",
          "text": [
            "Warning: Looks like you're using an outdated API Version, please consider updating (server 1.5.10 / client 1.5.4)\n",
            "jigsaw-unintended-bias-train.csv.zip: Skipping, found more recently modified local copy (use --force to force download)\n",
            "jigsaw-toxic-comment-train-processed-seqlen128.csv.zip: Skipping, found more recently modified local copy (use --force to force download)\n",
            "jigsaw-toxic-comment-train.csv.zip: Skipping, found more recently modified local copy (use --force to force download)\n",
            "validation-processed-seqlen128.csv.zip: Skipping, found more recently modified local copy (use --force to force download)\n",
            "validation.csv.zip: Skipping, found more recently modified local copy (use --force to force download)\n",
            "jigsaw-unintended-bias-train-processed-seqlen128.csv.zip: Skipping, found more recently modified local copy (use --force to force download)\n",
            "test.csv.zip: Skipping, found more recently modified local copy (use --force to force download)\n",
            "sample_submission.csv: Skipping, found more recently modified local copy (use --force to force download)\n",
            "test-processed-seqlen128.csv.zip: Skipping, found more recently modified local copy (use --force to force download)\n"
          ],
          "name": "stdout"
        }
      ]
    },
    {
      "cell_type": "code",
      "metadata": {
        "colab": {
          "base_uri": "https://localhost:8080/"
        },
        "id": "N1SIeJhPti0j",
        "outputId": "6c6d1b16-267b-4ced-f3a4-46ce32da0575"
      },
      "source": [
        "! unzip /content/jigsaw-toxic-comment-train.csv.zip"
      ],
      "execution_count": null,
      "outputs": [
        {
          "output_type": "stream",
          "text": [
            "Archive:  /content/jigsaw-toxic-comment-train.csv.zip\n",
            "replace jigsaw-toxic-comment-train.csv? [y]es, [n]o, [A]ll, [N]one, [r]ename: n\n"
          ],
          "name": "stdout"
        }
      ]
    },
    {
      "cell_type": "markdown",
      "metadata": {
        "id": "HuTE3SZHHoGk"
      },
      "source": [
        "# First Testing set : \n",
        " ## - jigsaw-toxic-comment-train.csv "
      ]
    },
    {
      "cell_type": "code",
      "metadata": {
        "id": "7t0x55yIsha0"
      },
      "source": [
        "test_set = pd.read_csv('jigsaw-toxic-comment-train.csv')"
      ],
      "execution_count": null,
      "outputs": []
    },
    {
      "cell_type": "code",
      "metadata": {
        "colab": {
          "base_uri": "https://localhost:8080/",
          "height": 289
        },
        "id": "VtRWnU4sstzi",
        "outputId": "59b75635-4fe6-4862-cf5e-e92062649ec8"
      },
      "source": [
        "test_set.head(5)\n"
      ],
      "execution_count": null,
      "outputs": [
        {
          "output_type": "execute_result",
          "data": {
            "text/html": [
              "<div>\n",
              "<style scoped>\n",
              "    .dataframe tbody tr th:only-of-type {\n",
              "        vertical-align: middle;\n",
              "    }\n",
              "\n",
              "    .dataframe tbody tr th {\n",
              "        vertical-align: top;\n",
              "    }\n",
              "\n",
              "    .dataframe thead th {\n",
              "        text-align: right;\n",
              "    }\n",
              "</style>\n",
              "<table border=\"1\" class=\"dataframe\">\n",
              "  <thead>\n",
              "    <tr style=\"text-align: right;\">\n",
              "      <th></th>\n",
              "      <th>id</th>\n",
              "      <th>comment_text</th>\n",
              "      <th>toxic</th>\n",
              "      <th>severe_toxic</th>\n",
              "      <th>obscene</th>\n",
              "      <th>threat</th>\n",
              "      <th>insult</th>\n",
              "      <th>identity_hate</th>\n",
              "    </tr>\n",
              "  </thead>\n",
              "  <tbody>\n",
              "    <tr>\n",
              "      <th>0</th>\n",
              "      <td>0000997932d777bf</td>\n",
              "      <td>Explanation\\nWhy the edits made under my usern...</td>\n",
              "      <td>0</td>\n",
              "      <td>0</td>\n",
              "      <td>0</td>\n",
              "      <td>0</td>\n",
              "      <td>0</td>\n",
              "      <td>0</td>\n",
              "    </tr>\n",
              "    <tr>\n",
              "      <th>1</th>\n",
              "      <td>000103f0d9cfb60f</td>\n",
              "      <td>D'aww! He matches this background colour I'm s...</td>\n",
              "      <td>0</td>\n",
              "      <td>0</td>\n",
              "      <td>0</td>\n",
              "      <td>0</td>\n",
              "      <td>0</td>\n",
              "      <td>0</td>\n",
              "    </tr>\n",
              "    <tr>\n",
              "      <th>2</th>\n",
              "      <td>000113f07ec002fd</td>\n",
              "      <td>Hey man, I'm really not trying to edit war. It...</td>\n",
              "      <td>0</td>\n",
              "      <td>0</td>\n",
              "      <td>0</td>\n",
              "      <td>0</td>\n",
              "      <td>0</td>\n",
              "      <td>0</td>\n",
              "    </tr>\n",
              "    <tr>\n",
              "      <th>3</th>\n",
              "      <td>0001b41b1c6bb37e</td>\n",
              "      <td>\"\\nMore\\nI can't make any real suggestions on ...</td>\n",
              "      <td>0</td>\n",
              "      <td>0</td>\n",
              "      <td>0</td>\n",
              "      <td>0</td>\n",
              "      <td>0</td>\n",
              "      <td>0</td>\n",
              "    </tr>\n",
              "    <tr>\n",
              "      <th>4</th>\n",
              "      <td>0001d958c54c6e35</td>\n",
              "      <td>You, sir, are my hero. Any chance you remember...</td>\n",
              "      <td>0</td>\n",
              "      <td>0</td>\n",
              "      <td>0</td>\n",
              "      <td>0</td>\n",
              "      <td>0</td>\n",
              "      <td>0</td>\n",
              "    </tr>\n",
              "  </tbody>\n",
              "</table>\n",
              "</div>"
            ],
            "text/plain": [
              "                 id  ... identity_hate\n",
              "0  0000997932d777bf  ...             0\n",
              "1  000103f0d9cfb60f  ...             0\n",
              "2  000113f07ec002fd  ...             0\n",
              "3  0001b41b1c6bb37e  ...             0\n",
              "4  0001d958c54c6e35  ...             0\n",
              "\n",
              "[5 rows x 8 columns]"
            ]
          },
          "metadata": {
            "tags": []
          },
          "execution_count": 49
        }
      ]
    },
    {
      "cell_type": "markdown",
      "metadata": {
        "id": "riGnXMkSIERq"
      },
      "source": [
        "### <font color = 'Orange'>Problem & Solution : \n",
        "- The problem in this dataset is that ic contains multiple labels while we need only one label either toxic or not \n",
        "- The Solution :\n",
        " - Add All the labels together and create new column for the summation \n",
        " -then if the value in the entry is > 0 it is replaced by 1 else it is kept zero as it is "
      ]
    },
    {
      "cell_type": "code",
      "metadata": {
        "id": "H67R0vOBH-8Z"
      },
      "source": [
        "test_set[\"Combined\"] =test_set['toxic']+test_set['severe_toxic']+\\\n",
        "test_set['obscene']+test_set['threat']\t+test_set['insult']\t+ test_set['identity_hate']"
      ],
      "execution_count": null,
      "outputs": []
    },
    {
      "cell_type": "code",
      "metadata": {
        "colab": {
          "base_uri": "https://localhost:8080/"
        },
        "id": "l_J9dLtbAXZ4",
        "outputId": "6286f1f7-03cc-4121-dfa0-4c654e2d7179"
      },
      "source": [
        "test_set['Combined']"
      ],
      "execution_count": null,
      "outputs": [
        {
          "output_type": "execute_result",
          "data": {
            "text/plain": [
              "0         0\n",
              "1         0\n",
              "2         0\n",
              "3         0\n",
              "4         0\n",
              "         ..\n",
              "223544    0\n",
              "223545    0\n",
              "223546    0\n",
              "223547    3\n",
              "223548    0\n",
              "Name: Combined, Length: 223549, dtype: int64"
            ]
          },
          "metadata": {
            "tags": []
          },
          "execution_count": 51
        }
      ]
    },
    {
      "cell_type": "code",
      "metadata": {
        "id": "oV0xGn1bA3Wv"
      },
      "source": [
        "test_set['Combined'] = test_set['Combined'].replace([1,2,3,4,5,6], 1)"
      ],
      "execution_count": null,
      "outputs": []
    },
    {
      "cell_type": "code",
      "metadata": {
        "colab": {
          "base_uri": "https://localhost:8080/",
          "height": 411
        },
        "id": "7Ou-OQ-4BMN3",
        "outputId": "c3a6109a-cc9f-46b5-886b-f7964514ee1c"
      },
      "source": [
        "test_set.head()"
      ],
      "execution_count": null,
      "outputs": [
        {
          "output_type": "execute_result",
          "data": {
            "text/html": [
              "<div>\n",
              "<style scoped>\n",
              "    .dataframe tbody tr th:only-of-type {\n",
              "        vertical-align: middle;\n",
              "    }\n",
              "\n",
              "    .dataframe tbody tr th {\n",
              "        vertical-align: top;\n",
              "    }\n",
              "\n",
              "    .dataframe thead th {\n",
              "        text-align: right;\n",
              "    }\n",
              "</style>\n",
              "<table border=\"1\" class=\"dataframe\">\n",
              "  <thead>\n",
              "    <tr style=\"text-align: right;\">\n",
              "      <th></th>\n",
              "      <th>id</th>\n",
              "      <th>comment_text</th>\n",
              "      <th>toxic</th>\n",
              "      <th>severe_toxic</th>\n",
              "      <th>obscene</th>\n",
              "      <th>threat</th>\n",
              "      <th>insult</th>\n",
              "      <th>identity_hate</th>\n",
              "      <th>Combined</th>\n",
              "    </tr>\n",
              "  </thead>\n",
              "  <tbody>\n",
              "    <tr>\n",
              "      <th>0</th>\n",
              "      <td>0000997932d777bf</td>\n",
              "      <td>Explanation\\nWhy the edits made under my usern...</td>\n",
              "      <td>0</td>\n",
              "      <td>0</td>\n",
              "      <td>0</td>\n",
              "      <td>0</td>\n",
              "      <td>0</td>\n",
              "      <td>0</td>\n",
              "      <td>0</td>\n",
              "    </tr>\n",
              "    <tr>\n",
              "      <th>1</th>\n",
              "      <td>000103f0d9cfb60f</td>\n",
              "      <td>D'aww! He matches this background colour I'm s...</td>\n",
              "      <td>0</td>\n",
              "      <td>0</td>\n",
              "      <td>0</td>\n",
              "      <td>0</td>\n",
              "      <td>0</td>\n",
              "      <td>0</td>\n",
              "      <td>0</td>\n",
              "    </tr>\n",
              "    <tr>\n",
              "      <th>2</th>\n",
              "      <td>000113f07ec002fd</td>\n",
              "      <td>Hey man, I'm really not trying to edit war. It...</td>\n",
              "      <td>0</td>\n",
              "      <td>0</td>\n",
              "      <td>0</td>\n",
              "      <td>0</td>\n",
              "      <td>0</td>\n",
              "      <td>0</td>\n",
              "      <td>0</td>\n",
              "    </tr>\n",
              "    <tr>\n",
              "      <th>3</th>\n",
              "      <td>0001b41b1c6bb37e</td>\n",
              "      <td>\"\\nMore\\nI can't make any real suggestions on ...</td>\n",
              "      <td>0</td>\n",
              "      <td>0</td>\n",
              "      <td>0</td>\n",
              "      <td>0</td>\n",
              "      <td>0</td>\n",
              "      <td>0</td>\n",
              "      <td>0</td>\n",
              "    </tr>\n",
              "    <tr>\n",
              "      <th>4</th>\n",
              "      <td>0001d958c54c6e35</td>\n",
              "      <td>You, sir, are my hero. Any chance you remember...</td>\n",
              "      <td>0</td>\n",
              "      <td>0</td>\n",
              "      <td>0</td>\n",
              "      <td>0</td>\n",
              "      <td>0</td>\n",
              "      <td>0</td>\n",
              "      <td>0</td>\n",
              "    </tr>\n",
              "  </tbody>\n",
              "</table>\n",
              "</div>"
            ],
            "text/plain": [
              "                 id  ... Combined\n",
              "0  0000997932d777bf  ...        0\n",
              "1  000103f0d9cfb60f  ...        0\n",
              "2  000113f07ec002fd  ...        0\n",
              "3  0001b41b1c6bb37e  ...        0\n",
              "4  0001d958c54c6e35  ...        0\n",
              "\n",
              "[5 rows x 9 columns]"
            ]
          },
          "metadata": {
            "tags": []
          },
          "execution_count": 53
        }
      ]
    },
    {
      "cell_type": "code",
      "metadata": {
        "id": "5nK9ZBlABW4q"
      },
      "source": [
        "# Create a Dataset with only comments and label\n",
        "test_set=test_set[['comment_text' ,'Combined']]"
      ],
      "execution_count": null,
      "outputs": []
    },
    {
      "cell_type": "code",
      "metadata": {
        "colab": {
          "base_uri": "https://localhost:8080/",
          "height": 419
        },
        "id": "--Bu9Lm8BhdA",
        "outputId": "fa71e24a-5426-4735-c66d-87a77d81ad07"
      },
      "source": [
        "test_set"
      ],
      "execution_count": null,
      "outputs": [
        {
          "output_type": "execute_result",
          "data": {
            "text/html": [
              "<div>\n",
              "<style scoped>\n",
              "    .dataframe tbody tr th:only-of-type {\n",
              "        vertical-align: middle;\n",
              "    }\n",
              "\n",
              "    .dataframe tbody tr th {\n",
              "        vertical-align: top;\n",
              "    }\n",
              "\n",
              "    .dataframe thead th {\n",
              "        text-align: right;\n",
              "    }\n",
              "</style>\n",
              "<table border=\"1\" class=\"dataframe\">\n",
              "  <thead>\n",
              "    <tr style=\"text-align: right;\">\n",
              "      <th></th>\n",
              "      <th>comment_text</th>\n",
              "      <th>Combined</th>\n",
              "    </tr>\n",
              "  </thead>\n",
              "  <tbody>\n",
              "    <tr>\n",
              "      <th>0</th>\n",
              "      <td>Explanation\\nWhy the edits made under my usern...</td>\n",
              "      <td>0</td>\n",
              "    </tr>\n",
              "    <tr>\n",
              "      <th>1</th>\n",
              "      <td>D'aww! He matches this background colour I'm s...</td>\n",
              "      <td>0</td>\n",
              "    </tr>\n",
              "    <tr>\n",
              "      <th>2</th>\n",
              "      <td>Hey man, I'm really not trying to edit war. It...</td>\n",
              "      <td>0</td>\n",
              "    </tr>\n",
              "    <tr>\n",
              "      <th>3</th>\n",
              "      <td>\"\\nMore\\nI can't make any real suggestions on ...</td>\n",
              "      <td>0</td>\n",
              "    </tr>\n",
              "    <tr>\n",
              "      <th>4</th>\n",
              "      <td>You, sir, are my hero. Any chance you remember...</td>\n",
              "      <td>0</td>\n",
              "    </tr>\n",
              "    <tr>\n",
              "      <th>...</th>\n",
              "      <td>...</td>\n",
              "      <td>...</td>\n",
              "    </tr>\n",
              "    <tr>\n",
              "      <th>223544</th>\n",
              "      <td>:Jerome, I see you never got around to this…! ...</td>\n",
              "      <td>0</td>\n",
              "    </tr>\n",
              "    <tr>\n",
              "      <th>223545</th>\n",
              "      <td>==Lucky bastard== \\n http://wikimediafoundatio...</td>\n",
              "      <td>0</td>\n",
              "    </tr>\n",
              "    <tr>\n",
              "      <th>223546</th>\n",
              "      <td>==shame on you all!!!== \\n\\n You want to speak...</td>\n",
              "      <td>0</td>\n",
              "    </tr>\n",
              "    <tr>\n",
              "      <th>223547</th>\n",
              "      <td>MEL GIBSON IS A NAZI BITCH WHO MAKES SHITTY MO...</td>\n",
              "      <td>1</td>\n",
              "    </tr>\n",
              "    <tr>\n",
              "      <th>223548</th>\n",
              "      <td>\" \\n\\n == Unicorn lair discovery == \\n\\n Suppo...</td>\n",
              "      <td>0</td>\n",
              "    </tr>\n",
              "  </tbody>\n",
              "</table>\n",
              "<p>223549 rows × 2 columns</p>\n",
              "</div>"
            ],
            "text/plain": [
              "                                             comment_text  Combined\n",
              "0       Explanation\\nWhy the edits made under my usern...         0\n",
              "1       D'aww! He matches this background colour I'm s...         0\n",
              "2       Hey man, I'm really not trying to edit war. It...         0\n",
              "3       \"\\nMore\\nI can't make any real suggestions on ...         0\n",
              "4       You, sir, are my hero. Any chance you remember...         0\n",
              "...                                                   ...       ...\n",
              "223544  :Jerome, I see you never got around to this…! ...         0\n",
              "223545  ==Lucky bastard== \\n http://wikimediafoundatio...         0\n",
              "223546  ==shame on you all!!!== \\n\\n You want to speak...         0\n",
              "223547  MEL GIBSON IS A NAZI BITCH WHO MAKES SHITTY MO...         1\n",
              "223548  \" \\n\\n == Unicorn lair discovery == \\n\\n Suppo...         0\n",
              "\n",
              "[223549 rows x 2 columns]"
            ]
          },
          "metadata": {
            "tags": []
          },
          "execution_count": 55
        }
      ]
    },
    {
      "cell_type": "markdown",
      "metadata": {
        "id": "L5TxBsP8I3qk"
      },
      "source": [
        "## Dataset Analysis "
      ]
    },
    {
      "cell_type": "code",
      "metadata": {
        "colab": {
          "base_uri": "https://localhost:8080/",
          "height": 248
        },
        "id": "XoKdJgpNBnAF",
        "outputId": "a82b3828-1819-4289-bb23-76a52f45c277"
      },
      "source": [
        "test_set['Combined'].value_counts().plot(kind = 'pie',autopct='%.2f') ; "
      ],
      "execution_count": null,
      "outputs": [
        {
          "output_type": "display_data",
          "data": {
            "image/png": "[encoded data removed]",
            "text/plain": [
              "<Figure size 432x288 with 1 Axes>"
            ]
          },
          "metadata": {
            "tags": []
          }
        }
      ]
    },
    {
      "cell_type": "code",
      "metadata": {
        "id": "Au25sx60vBAi",
        "colab": {
          "base_uri": "https://localhost:8080/"
        },
        "outputId": "d07d2d50-d467-4f10-d2eb-aecf63d933bf"
      },
      "source": [
        "test_set.shape"
      ],
      "execution_count": null,
      "outputs": [
        {
          "output_type": "execute_result",
          "data": {
            "text/plain": [
              "(223549, 2)"
            ]
          },
          "metadata": {
            "tags": []
          },
          "execution_count": 57
        }
      ]
    },
    {
      "cell_type": "code",
      "metadata": {
        "colab": {
          "base_uri": "https://localhost:8080/",
          "height": 265
        },
        "id": "Jcz8x0mHEIzI",
        "outputId": "b13bdbe2-42c3-4f84-a23f-8b45cf19c5ae"
      },
      "source": [
        "test_set.Combined.value_counts().plot(kind = 'barh') ;\n"
      ],
      "execution_count": null,
      "outputs": [
        {
          "output_type": "display_data",
          "data": {
            "image/png": "[encoded data removed]",
            "text/plain": [
              "<Figure size 432x288 with 1 Axes>"
            ]
          },
          "metadata": {
            "tags": [],
            "needs_background": "light"
          }
        }
      ]
    },
    {
      "cell_type": "markdown",
      "metadata": {
        "id": "gTrIB1V3I-Lo"
      },
      "source": [
        "## Dataset Testing with the Model "
      ]
    },
    {
      "cell_type": "code",
      "metadata": {
        "id": "w0FI_8uCEYhJ"
      },
      "source": [
        "x_test = encode(test_set.comment_text.values, tokenizer, MAX_LEN)"
      ],
      "execution_count": null,
      "outputs": []
    },
    {
      "cell_type": "code",
      "metadata": {
        "id": "g6wDmWEgEYhM"
      },
      "source": [
        "\n",
        "test_dataset = (\n",
        "      tf.data.Dataset\n",
        "      .from_tensor_slices(x_test)\n",
        "      .batch(BATCH_SIZE)\n",
        "  )\n"
      ],
      "execution_count": null,
      "outputs": []
    },
    {
      "cell_type": "code",
      "metadata": {
        "colab": {
          "base_uri": "https://localhost:8080/"
        },
        "id": "QJZhRqTIEYhN",
        "outputId": "c886369a-b4a1-49c1-a2f8-e996d9e790a6"
      },
      "source": [
        " pr = model.predict(test_dataset , verbose=1 )\n",
        " "
      ],
      "execution_count": null,
      "outputs": [
        {
          "output_type": "stream",
          "text": [
            "874/874 [==============================] - 44s 50ms/step\n"
          ],
          "name": "stdout"
        }
      ]
    },
    {
      "cell_type": "code",
      "metadata": {
        "id": "ri3CX43pGPOR"
      },
      "source": [
        "test_set[\"predicted\"]= pr "
      ],
      "execution_count": null,
      "outputs": []
    },
    {
      "cell_type": "code",
      "metadata": {
        "colab": {
          "base_uri": "https://localhost:8080/",
          "height": 419
        },
        "id": "-ZVT-BAEGrpS",
        "outputId": "f445460e-653a-474c-9077-048687736d2d"
      },
      "source": [
        "test_set\n"
      ],
      "execution_count": null,
      "outputs": [
        {
          "output_type": "execute_result",
          "data": {
            "text/html": [
              "<div>\n",
              "<style scoped>\n",
              "    .dataframe tbody tr th:only-of-type {\n",
              "        vertical-align: middle;\n",
              "    }\n",
              "\n",
              "    .dataframe tbody tr th {\n",
              "        vertical-align: top;\n",
              "    }\n",
              "\n",
              "    .dataframe thead th {\n",
              "        text-align: right;\n",
              "    }\n",
              "</style>\n",
              "<table border=\"1\" class=\"dataframe\">\n",
              "  <thead>\n",
              "    <tr style=\"text-align: right;\">\n",
              "      <th></th>\n",
              "      <th>comment_text</th>\n",
              "      <th>Combined</th>\n",
              "      <th>predicted</th>\n",
              "    </tr>\n",
              "  </thead>\n",
              "  <tbody>\n",
              "    <tr>\n",
              "      <th>0</th>\n",
              "      <td>Explanation\\nWhy the edits made under my usern...</td>\n",
              "      <td>0</td>\n",
              "      <td>8.940697e-08</td>\n",
              "    </tr>\n",
              "    <tr>\n",
              "      <th>1</th>\n",
              "      <td>D'aww! He matches this background colour I'm s...</td>\n",
              "      <td>0</td>\n",
              "      <td>3.775358e-04</td>\n",
              "    </tr>\n",
              "    <tr>\n",
              "      <th>2</th>\n",
              "      <td>Hey man, I'm really not trying to edit war. It...</td>\n",
              "      <td>0</td>\n",
              "      <td>2.384186e-07</td>\n",
              "    </tr>\n",
              "    <tr>\n",
              "      <th>3</th>\n",
              "      <td>\"\\nMore\\nI can't make any real suggestions on ...</td>\n",
              "      <td>0</td>\n",
              "      <td>0.000000e+00</td>\n",
              "    </tr>\n",
              "    <tr>\n",
              "      <th>4</th>\n",
              "      <td>You, sir, are my hero. Any chance you remember...</td>\n",
              "      <td>0</td>\n",
              "      <td>0.000000e+00</td>\n",
              "    </tr>\n",
              "    <tr>\n",
              "      <th>...</th>\n",
              "      <td>...</td>\n",
              "      <td>...</td>\n",
              "      <td>...</td>\n",
              "    </tr>\n",
              "    <tr>\n",
              "      <th>223544</th>\n",
              "      <td>:Jerome, I see you never got around to this…! ...</td>\n",
              "      <td>0</td>\n",
              "      <td>0.000000e+00</td>\n",
              "    </tr>\n",
              "    <tr>\n",
              "      <th>223545</th>\n",
              "      <td>==Lucky bastard== \\n http://wikimediafoundatio...</td>\n",
              "      <td>0</td>\n",
              "      <td>9.525582e-01</td>\n",
              "    </tr>\n",
              "    <tr>\n",
              "      <th>223546</th>\n",
              "      <td>==shame on you all!!!== \\n\\n You want to speak...</td>\n",
              "      <td>0</td>\n",
              "      <td>9.996398e-01</td>\n",
              "    </tr>\n",
              "    <tr>\n",
              "      <th>223547</th>\n",
              "      <td>MEL GIBSON IS A NAZI BITCH WHO MAKES SHITTY MO...</td>\n",
              "      <td>1</td>\n",
              "      <td>9.999999e-01</td>\n",
              "    </tr>\n",
              "    <tr>\n",
              "      <th>223548</th>\n",
              "      <td>\" \\n\\n == Unicorn lair discovery == \\n\\n Suppo...</td>\n",
              "      <td>0</td>\n",
              "      <td>0.000000e+00</td>\n",
              "    </tr>\n",
              "  </tbody>\n",
              "</table>\n",
              "<p>223549 rows × 3 columns</p>\n",
              "</div>"
            ],
            "text/plain": [
              "                                             comment_text  ...     predicted\n",
              "0       Explanation\\nWhy the edits made under my usern...  ...  8.940697e-08\n",
              "1       D'aww! He matches this background colour I'm s...  ...  3.775358e-04\n",
              "2       Hey man, I'm really not trying to edit war. It...  ...  2.384186e-07\n",
              "3       \"\\nMore\\nI can't make any real suggestions on ...  ...  0.000000e+00\n",
              "4       You, sir, are my hero. Any chance you remember...  ...  0.000000e+00\n",
              "...                                                   ...  ...           ...\n",
              "223544  :Jerome, I see you never got around to this…! ...  ...  0.000000e+00\n",
              "223545  ==Lucky bastard== \\n http://wikimediafoundatio...  ...  9.525582e-01\n",
              "223546  ==shame on you all!!!== \\n\\n You want to speak...  ...  9.996398e-01\n",
              "223547  MEL GIBSON IS A NAZI BITCH WHO MAKES SHITTY MO...  ...  9.999999e-01\n",
              "223548  \" \\n\\n == Unicorn lair discovery == \\n\\n Suppo...  ...  0.000000e+00\n",
              "\n",
              "[223549 rows x 3 columns]"
            ]
          },
          "metadata": {
            "tags": []
          },
          "execution_count": 63
        }
      ]
    },
    {
      "cell_type": "code",
      "metadata": {
        "id": "RPt3Qn-NEYhO"
      },
      "source": [
        "test_set[\"predicted\"] = test_set[\"predicted\"].round()"
      ],
      "execution_count": null,
      "outputs": []
    },
    {
      "cell_type": "code",
      "metadata": {
        "colab": {
          "base_uri": "https://localhost:8080/",
          "height": 419
        },
        "id": "zjBjkjPKGOPf",
        "outputId": "915ac0eb-50c9-496e-9474-2af870e3443a"
      },
      "source": [
        "test_set"
      ],
      "execution_count": null,
      "outputs": [
        {
          "output_type": "execute_result",
          "data": {
            "text/html": [
              "<div>\n",
              "<style scoped>\n",
              "    .dataframe tbody tr th:only-of-type {\n",
              "        vertical-align: middle;\n",
              "    }\n",
              "\n",
              "    .dataframe tbody tr th {\n",
              "        vertical-align: top;\n",
              "    }\n",
              "\n",
              "    .dataframe thead th {\n",
              "        text-align: right;\n",
              "    }\n",
              "</style>\n",
              "<table border=\"1\" class=\"dataframe\">\n",
              "  <thead>\n",
              "    <tr style=\"text-align: right;\">\n",
              "      <th></th>\n",
              "      <th>comment_text</th>\n",
              "      <th>Combined</th>\n",
              "      <th>predicted</th>\n",
              "    </tr>\n",
              "  </thead>\n",
              "  <tbody>\n",
              "    <tr>\n",
              "      <th>0</th>\n",
              "      <td>Explanation\\nWhy the edits made under my usern...</td>\n",
              "      <td>0</td>\n",
              "      <td>0.0</td>\n",
              "    </tr>\n",
              "    <tr>\n",
              "      <th>1</th>\n",
              "      <td>D'aww! He matches this background colour I'm s...</td>\n",
              "      <td>0</td>\n",
              "      <td>0.0</td>\n",
              "    </tr>\n",
              "    <tr>\n",
              "      <th>2</th>\n",
              "      <td>Hey man, I'm really not trying to edit war. It...</td>\n",
              "      <td>0</td>\n",
              "      <td>0.0</td>\n",
              "    </tr>\n",
              "    <tr>\n",
              "      <th>3</th>\n",
              "      <td>\"\\nMore\\nI can't make any real suggestions on ...</td>\n",
              "      <td>0</td>\n",
              "      <td>0.0</td>\n",
              "    </tr>\n",
              "    <tr>\n",
              "      <th>4</th>\n",
              "      <td>You, sir, are my hero. Any chance you remember...</td>\n",
              "      <td>0</td>\n",
              "      <td>0.0</td>\n",
              "    </tr>\n",
              "    <tr>\n",
              "      <th>...</th>\n",
              "      <td>...</td>\n",
              "      <td>...</td>\n",
              "      <td>...</td>\n",
              "    </tr>\n",
              "    <tr>\n",
              "      <th>223544</th>\n",
              "      <td>:Jerome, I see you never got around to this…! ...</td>\n",
              "      <td>0</td>\n",
              "      <td>0.0</td>\n",
              "    </tr>\n",
              "    <tr>\n",
              "      <th>223545</th>\n",
              "      <td>==Lucky bastard== \\n http://wikimediafoundatio...</td>\n",
              "      <td>0</td>\n",
              "      <td>1.0</td>\n",
              "    </tr>\n",
              "    <tr>\n",
              "      <th>223546</th>\n",
              "      <td>==shame on you all!!!== \\n\\n You want to speak...</td>\n",
              "      <td>0</td>\n",
              "      <td>1.0</td>\n",
              "    </tr>\n",
              "    <tr>\n",
              "      <th>223547</th>\n",
              "      <td>MEL GIBSON IS A NAZI BITCH WHO MAKES SHITTY MO...</td>\n",
              "      <td>1</td>\n",
              "      <td>1.0</td>\n",
              "    </tr>\n",
              "    <tr>\n",
              "      <th>223548</th>\n",
              "      <td>\" \\n\\n == Unicorn lair discovery == \\n\\n Suppo...</td>\n",
              "      <td>0</td>\n",
              "      <td>0.0</td>\n",
              "    </tr>\n",
              "  </tbody>\n",
              "</table>\n",
              "<p>223549 rows × 3 columns</p>\n",
              "</div>"
            ],
            "text/plain": [
              "                                             comment_text  Combined  predicted\n",
              "0       Explanation\\nWhy the edits made under my usern...         0        0.0\n",
              "1       D'aww! He matches this background colour I'm s...         0        0.0\n",
              "2       Hey man, I'm really not trying to edit war. It...         0        0.0\n",
              "3       \"\\nMore\\nI can't make any real suggestions on ...         0        0.0\n",
              "4       You, sir, are my hero. Any chance you remember...         0        0.0\n",
              "...                                                   ...       ...        ...\n",
              "223544  :Jerome, I see you never got around to this…! ...         0        0.0\n",
              "223545  ==Lucky bastard== \\n http://wikimediafoundatio...         0        1.0\n",
              "223546  ==shame on you all!!!== \\n\\n You want to speak...         0        1.0\n",
              "223547  MEL GIBSON IS A NAZI BITCH WHO MAKES SHITTY MO...         1        1.0\n",
              "223548  \" \\n\\n == Unicorn lair discovery == \\n\\n Suppo...         0        0.0\n",
              "\n",
              "[223549 rows x 3 columns]"
            ]
          },
          "metadata": {
            "tags": []
          },
          "execution_count": 65
        }
      ]
    },
    {
      "cell_type": "markdown",
      "metadata": {
        "id": "nz-5Zcf1iRL4"
      },
      "source": [
        "## Testing Evaluation "
      ]
    },
    {
      "cell_type": "code",
      "metadata": {
        "colab": {
          "base_uri": "https://localhost:8080/"
        },
        "id": "IEkpbn2BEIRE",
        "outputId": "29c5d4b1-7f33-49ff-8542-58fd85af6dce"
      },
      "source": [
        "from sklearn.metrics import accuracy_score\n",
        "y_pred_testset_kaggle = test_set[\"predicted\"].tolist()\n",
        "y_true_testset_kaggle = test_set[\"Combined\"].tolist()\n",
        "accuracy_score(y_true_testset_kaggle, y_pred_testset_kaggle)"
      ],
      "execution_count": null,
      "outputs": [
        {
          "output_type": "execute_result",
          "data": {
            "text/plain": [
              "0.9328156243150272"
            ]
          },
          "metadata": {
            "tags": []
          },
          "execution_count": 66
        }
      ]
    },
    {
      "cell_type": "code",
      "metadata": {
        "id": "XFgobDdDjfiH",
        "colab": {
          "base_uri": "https://localhost:8080/"
        },
        "outputId": "d99e2191-fe75-4431-8c36-375d3c4d7496"
      },
      "source": [
        "from sklearn.metrics import roc_curve, roc_auc_score\n",
        "test_combined_auc = roc_auc_score(y_true_testset_kaggle, y_pred_testset_kaggle)\n",
        "test_combined_auc"
      ],
      "execution_count": null,
      "outputs": [
        {
          "output_type": "execute_result",
          "data": {
            "text/plain": [
              "0.948955605983131"
            ]
          },
          "metadata": {
            "tags": []
          },
          "execution_count": 67
        }
      ]
    },
    {
      "cell_type": "code",
      "metadata": {
        "id": "FguxA8MOimpp",
        "colab": {
          "base_uri": "https://localhost:8080/"
        },
        "outputId": "07b6d2cf-9858-4bf3-f5b0-d89b94cf872c"
      },
      "source": [
        "from sklearn.metrics import precision_recall_fscore_support\n",
        "precision ,recall, fscore , _  =precision_recall_fscore_support(y_true_testset_kaggle, y_pred_testset_kaggle, average='weighted')\n",
        "print('precision:' , precision , '    recall : '  ,recall, '    fscore : ' ,fscore)"
      ],
      "execution_count": null,
      "outputs": [
        {
          "output_type": "stream",
          "text": [
            "precision: 0.9567906678784871     recall :  0.9328156243150272     fscore :  0.9394561088634049\n"
          ],
          "name": "stdout"
        }
      ]
    },
    {
      "cell_type": "markdown",
      "metadata": {
        "id": "bd-m4J8PJdkE"
      },
      "source": [
        "# Second Testing set : \n",
        " ## - validation.csv "
      ]
    },
    {
      "cell_type": "code",
      "metadata": {
        "colab": {
          "base_uri": "https://localhost:8080/"
        },
        "id": "0F1nRalAUR9g",
        "outputId": "1093d691-e18f-457a-fce5-1f500b0a0b07"
      },
      "source": [
        "! unzip '/content/validation.csv.zip'"
      ],
      "execution_count": null,
      "outputs": [
        {
          "output_type": "stream",
          "text": [
            "Archive:  /content/validation.csv.zip\n",
            "  inflating: validation.csv          \n"
          ],
          "name": "stdout"
        }
      ]
    },
    {
      "cell_type": "code",
      "metadata": {
        "id": "qOy7rB3ju5aO",
        "colab": {
          "base_uri": "https://localhost:8080/",
          "height": 204
        },
        "outputId": "bbb962a1-081d-41da-d876-9f0d49654604"
      },
      "source": [
        "test_set = pd.read_csv('validation.csv')\n",
        "test_set.head(5)\n"
      ],
      "execution_count": null,
      "outputs": [
        {
          "output_type": "execute_result",
          "data": {
            "text/html": [
              "<div>\n",
              "<style scoped>\n",
              "    .dataframe tbody tr th:only-of-type {\n",
              "        vertical-align: middle;\n",
              "    }\n",
              "\n",
              "    .dataframe tbody tr th {\n",
              "        vertical-align: top;\n",
              "    }\n",
              "\n",
              "    .dataframe thead th {\n",
              "        text-align: right;\n",
              "    }\n",
              "</style>\n",
              "<table border=\"1\" class=\"dataframe\">\n",
              "  <thead>\n",
              "    <tr style=\"text-align: right;\">\n",
              "      <th></th>\n",
              "      <th>id</th>\n",
              "      <th>comment_text</th>\n",
              "      <th>lang</th>\n",
              "      <th>toxic</th>\n",
              "    </tr>\n",
              "  </thead>\n",
              "  <tbody>\n",
              "    <tr>\n",
              "      <th>0</th>\n",
              "      <td>0</td>\n",
              "      <td>Este usuario ni siquiera llega al rango de    ...</td>\n",
              "      <td>es</td>\n",
              "      <td>0</td>\n",
              "    </tr>\n",
              "    <tr>\n",
              "      <th>1</th>\n",
              "      <td>1</td>\n",
              "      <td>Il testo di questa voce pare esser scopiazzato...</td>\n",
              "      <td>it</td>\n",
              "      <td>0</td>\n",
              "    </tr>\n",
              "    <tr>\n",
              "      <th>2</th>\n",
              "      <td>2</td>\n",
              "      <td>Vale. Sólo expongo mi pasado. Todo tiempo pasa...</td>\n",
              "      <td>es</td>\n",
              "      <td>1</td>\n",
              "    </tr>\n",
              "    <tr>\n",
              "      <th>3</th>\n",
              "      <td>3</td>\n",
              "      <td>Bu maddenin alt başlığı olarak  uluslararası i...</td>\n",
              "      <td>tr</td>\n",
              "      <td>0</td>\n",
              "    </tr>\n",
              "    <tr>\n",
              "      <th>4</th>\n",
              "      <td>4</td>\n",
              "      <td>Belçika nın şehirlerinin yanında ilçe ve belde...</td>\n",
              "      <td>tr</td>\n",
              "      <td>0</td>\n",
              "    </tr>\n",
              "  </tbody>\n",
              "</table>\n",
              "</div>"
            ],
            "text/plain": [
              "   id                                       comment_text lang  toxic\n",
              "0   0  Este usuario ni siquiera llega al rango de    ...   es      0\n",
              "1   1  Il testo di questa voce pare esser scopiazzato...   it      0\n",
              "2   2  Vale. Sólo expongo mi pasado. Todo tiempo pasa...   es      1\n",
              "3   3  Bu maddenin alt başlığı olarak  uluslararası i...   tr      0\n",
              "4   4  Belçika nın şehirlerinin yanında ilçe ve belde...   tr      0"
            ]
          },
          "metadata": {
            "tags": []
          },
          "execution_count": 240
        }
      ]
    },
    {
      "cell_type": "code",
      "metadata": {
        "colab": {
          "base_uri": "https://localhost:8080/",
          "height": 204
        },
        "id": "dv-_4OOBvBl_",
        "outputId": "ea95b20a-8901-4e71-accc-f47728364ad8"
      },
      "source": [
        "test_set.drop(\"id\" , axis =1 , inplace= True)\n",
        "test_set.head(5)"
      ],
      "execution_count": null,
      "outputs": [
        {
          "output_type": "execute_result",
          "data": {
            "text/html": [
              "<div>\n",
              "<style scoped>\n",
              "    .dataframe tbody tr th:only-of-type {\n",
              "        vertical-align: middle;\n",
              "    }\n",
              "\n",
              "    .dataframe tbody tr th {\n",
              "        vertical-align: top;\n",
              "    }\n",
              "\n",
              "    .dataframe thead th {\n",
              "        text-align: right;\n",
              "    }\n",
              "</style>\n",
              "<table border=\"1\" class=\"dataframe\">\n",
              "  <thead>\n",
              "    <tr style=\"text-align: right;\">\n",
              "      <th></th>\n",
              "      <th>comment_text</th>\n",
              "      <th>lang</th>\n",
              "      <th>toxic</th>\n",
              "    </tr>\n",
              "  </thead>\n",
              "  <tbody>\n",
              "    <tr>\n",
              "      <th>0</th>\n",
              "      <td>Este usuario ni siquiera llega al rango de    ...</td>\n",
              "      <td>es</td>\n",
              "      <td>0</td>\n",
              "    </tr>\n",
              "    <tr>\n",
              "      <th>1</th>\n",
              "      <td>Il testo di questa voce pare esser scopiazzato...</td>\n",
              "      <td>it</td>\n",
              "      <td>0</td>\n",
              "    </tr>\n",
              "    <tr>\n",
              "      <th>2</th>\n",
              "      <td>Vale. Sólo expongo mi pasado. Todo tiempo pasa...</td>\n",
              "      <td>es</td>\n",
              "      <td>1</td>\n",
              "    </tr>\n",
              "    <tr>\n",
              "      <th>3</th>\n",
              "      <td>Bu maddenin alt başlığı olarak  uluslararası i...</td>\n",
              "      <td>tr</td>\n",
              "      <td>0</td>\n",
              "    </tr>\n",
              "    <tr>\n",
              "      <th>4</th>\n",
              "      <td>Belçika nın şehirlerinin yanında ilçe ve belde...</td>\n",
              "      <td>tr</td>\n",
              "      <td>0</td>\n",
              "    </tr>\n",
              "  </tbody>\n",
              "</table>\n",
              "</div>"
            ],
            "text/plain": [
              "                                        comment_text lang  toxic\n",
              "0  Este usuario ni siquiera llega al rango de    ...   es      0\n",
              "1  Il testo di questa voce pare esser scopiazzato...   it      0\n",
              "2  Vale. Sólo expongo mi pasado. Todo tiempo pasa...   es      1\n",
              "3  Bu maddenin alt başlığı olarak  uluslararası i...   tr      0\n",
              "4  Belçika nın şehirlerinin yanında ilçe ve belde...   tr      0"
            ]
          },
          "metadata": {
            "tags": []
          },
          "execution_count": 241
        }
      ]
    },
    {
      "cell_type": "markdown",
      "metadata": {
        "id": "zQSX3b-xJyRI"
      },
      "source": [
        "## Dataset Analysis "
      ]
    },
    {
      "cell_type": "code",
      "metadata": {
        "colab": {
          "base_uri": "https://localhost:8080/",
          "height": 265
        },
        "id": "eV-xvf7wxuhg",
        "outputId": "6c6188f7-de09-47c5-f6f4-27c7d6a683f7"
      },
      "source": [
        "test_set.lang.value_counts().plot(kind = 'barh') ;\n"
      ],
      "execution_count": null,
      "outputs": [
        {
          "output_type": "display_data",
          "data": {
            "image/png": "[encoded data removed]",
            "text/plain": [
              "<Figure size 432x288 with 1 Axes>"
            ]
          },
          "metadata": {
            "tags": [],
            "needs_background": "light"
          }
        }
      ]
    },
    {
      "cell_type": "code",
      "metadata": {
        "colab": {
          "base_uri": "https://localhost:8080/",
          "height": 248
        },
        "id": "u0Q30PPHvG2M",
        "outputId": "a889df58-5f4c-4316-ac30-31376ac9feed"
      },
      "source": [
        "test_set.lang.value_counts().plot(kind = 'pie' , autopct='%.2f') ;"
      ],
      "execution_count": null,
      "outputs": [
        {
          "output_type": "display_data",
          "data": {
            "image/png": "[encoded data removed]",
            "text/plain": [
              "<Figure size 432x288 with 1 Axes>"
            ]
          },
          "metadata": {
            "tags": []
          }
        }
      ]
    },
    {
      "cell_type": "markdown",
      "metadata": {
        "id": "LP27u4P6J01B"
      },
      "source": [
        "### Spliting the test dataset : \n",
        "- In order to determine each language accuracy \n",
        " - Divide the testing dataset where each splited dataset is one language testing dataset \n",
        " - For example italian only dataet , Spanish only dataset.....etc"
      ]
    },
    {
      "cell_type": "code",
      "metadata": {
        "id": "wDwyHfcFvZ3W"
      },
      "source": [
        "compined_test_languages_df = {}\n",
        "for language, data in test_set.groupby('lang'):\n",
        "    compined_test_languages_df[f'test_set_{language}'] = data"
      ],
      "execution_count": null,
      "outputs": []
    },
    {
      "cell_type": "code",
      "metadata": {
        "colab": {
          "base_uri": "https://localhost:8080/"
        },
        "id": "urNY7pf9wzwc",
        "outputId": "7f55d4e4-3b3b-4b19-d51e-7bdee6048b9c"
      },
      "source": [
        "compined_test_languages_df"
      ],
      "execution_count": null,
      "outputs": [
        {
          "output_type": "execute_result",
          "data": {
            "text/plain": [
              "{'test_set_es':                                            comment_text lang  toxic\n",
              " 0     Este usuario ni siquiera llega al rango de    ...   es      0\n",
              " 2     Vale. Sólo expongo mi pasado. Todo tiempo pasa...   es      1\n",
              " 6     No es mala idea. De hecho, yo estaba pensando ...   es      0\n",
              " 9     Creo que es importante que podamos reconocer a...   es      0\n",
              " 12    No sabemos quien es el autor del pie de imagen...   es      0\n",
              " ...                                                 ...  ...    ...\n",
              " 7989  +1 para el tipo que dice que es vandalismo, ma...   es      1\n",
              " 7991  No has demostrado nada. Mientes de forma desca...   es      0\n",
              " 7994  Hola Santiago! Te he contestado en tu página d...   es      0\n",
              " 7996  El imbesil ete dela luna no se entera ni ostia...   es      1\n",
              " 7998  El mapa del reinado de Alhaken esta ligerament...   es      0\n",
              " \n",
              " [2500 rows x 3 columns],\n",
              " 'test_set_it':                                            comment_text lang  toxic\n",
              " 1     Il testo di questa voce pare esser scopiazzato...   it      0\n",
              " 10    Ciao, in sintesi Ti dico questo, trovo sbaglia...   it      0\n",
              " 16    il buon senso non lo usate voi. siete voi i ve...   it      1\n",
              " 17    In riguardo a cio  che ho pubblicato e tu hai ...   it      1\n",
              " 19    Ma che cosa stai dicendo!??? Questa è la versi...   it      1\n",
              " ...                                                 ...  ...    ...\n",
              " 7985  sbaglio a sei gia  stato caldamente invitato d...   it      0\n",
              " 7986  Scusa se ho pensato ke fossi una femmina.... d...   it      1\n",
              " 7990  Sei il primo che mi dice una cosa simile, e qu...   it      0\n",
              " 7995   Il fatto è che la pagina dei personaggi minor...   it      0\n",
              " 7999  lasciami la tua email per favore. ad ogni modo...   it      0\n",
              " \n",
              " [2500 rows x 3 columns],\n",
              " 'test_set_tr':                                            comment_text lang  toxic\n",
              " 3     Bu maddenin alt başlığı olarak  uluslararası i...   tr      0\n",
              " 4     Belçika nın şehirlerinin yanında ilçe ve belde...   tr      0\n",
              " 5     güzel, zaten kaynaklandırması zor subjektif ka...   tr      0\n",
              " 7     Kod hatalarını düzeltmişsiniz,elinize sağlık ç...   tr      0\n",
              " 8     Levent Abi nasılsın? Hayat nasıl gidiyor? Umar...   tr      0\n",
              " ...                                                 ...  ...    ...\n",
              " 7987  Merhaba, Dediğiniz durum sıkça yaşanıyor. Ben ...   tr      0\n",
              " 7988  Aynen. kübada hiç bir dönem sosyalist inşa ger...   tr      0\n",
              " 7992  Hcagri isimli kullanıcı öğrenme süreci hakkınd...   tr      0\n",
              " 7993  Öyle sanıyorum ki bahsettiğiniz Şəmsi Bədəlbəy...   tr      0\n",
              " 7997  olum sız manyakmısınz siz adam sıze sanal yıld...   tr      1\n",
              " \n",
              " [3000 rows x 3 columns]}"
            ]
          },
          "metadata": {
            "tags": []
          },
          "execution_count": 245
        }
      ]
    },
    {
      "cell_type": "code",
      "metadata": {
        "colab": {
          "base_uri": "https://localhost:8080/"
        },
        "id": "yf3k8ORTw-W-",
        "outputId": "d95993a0-4abf-4af0-85f4-526e54733e7b"
      },
      "source": [
        "compined_test_languages_df.keys()"
      ],
      "execution_count": null,
      "outputs": [
        {
          "output_type": "execute_result",
          "data": {
            "text/plain": [
              "dict_keys(['test_set_es', 'test_set_it', 'test_set_tr'])"
            ]
          },
          "metadata": {
            "tags": []
          },
          "execution_count": 246
        }
      ]
    },
    {
      "cell_type": "code",
      "metadata": {
        "id": "QgtftRqmxFHV"
      },
      "source": [
        "for key in compined_test_languages_df.keys() : \n",
        "  compined_test_languages_df[key].drop('lang' , axis =1 , inplace = True)"
      ],
      "execution_count": null,
      "outputs": []
    },
    {
      "cell_type": "markdown",
      "metadata": {
        "id": "iviOrKWpKdDb"
      },
      "source": [
        "## Italian test Dataset "
      ]
    },
    {
      "cell_type": "code",
      "metadata": {
        "colab": {
          "base_uri": "https://localhost:8080/",
          "height": 419
        },
        "id": "MPvlfBpkxe1J",
        "outputId": "914262fb-acf0-4086-cde0-c6d79acd51ef"
      },
      "source": [
        "compined_test_languages_df['test_set_it']"
      ],
      "execution_count": null,
      "outputs": [
        {
          "output_type": "execute_result",
          "data": {
            "text/html": [
              "<div>\n",
              "<style scoped>\n",
              "    .dataframe tbody tr th:only-of-type {\n",
              "        vertical-align: middle;\n",
              "    }\n",
              "\n",
              "    .dataframe tbody tr th {\n",
              "        vertical-align: top;\n",
              "    }\n",
              "\n",
              "    .dataframe thead th {\n",
              "        text-align: right;\n",
              "    }\n",
              "</style>\n",
              "<table border=\"1\" class=\"dataframe\">\n",
              "  <thead>\n",
              "    <tr style=\"text-align: right;\">\n",
              "      <th></th>\n",
              "      <th>comment_text</th>\n",
              "      <th>toxic</th>\n",
              "    </tr>\n",
              "  </thead>\n",
              "  <tbody>\n",
              "    <tr>\n",
              "      <th>1</th>\n",
              "      <td>Il testo di questa voce pare esser scopiazzato...</td>\n",
              "      <td>0</td>\n",
              "    </tr>\n",
              "    <tr>\n",
              "      <th>10</th>\n",
              "      <td>Ciao, in sintesi Ti dico questo, trovo sbaglia...</td>\n",
              "      <td>0</td>\n",
              "    </tr>\n",
              "    <tr>\n",
              "      <th>16</th>\n",
              "      <td>il buon senso non lo usate voi. siete voi i ve...</td>\n",
              "      <td>1</td>\n",
              "    </tr>\n",
              "    <tr>\n",
              "      <th>17</th>\n",
              "      <td>In riguardo a cio  che ho pubblicato e tu hai ...</td>\n",
              "      <td>1</td>\n",
              "    </tr>\n",
              "    <tr>\n",
              "      <th>19</th>\n",
              "      <td>Ma che cosa stai dicendo!??? Questa è la versi...</td>\n",
              "      <td>1</td>\n",
              "    </tr>\n",
              "    <tr>\n",
              "      <th>...</th>\n",
              "      <td>...</td>\n",
              "      <td>...</td>\n",
              "    </tr>\n",
              "    <tr>\n",
              "      <th>7985</th>\n",
              "      <td>sbaglio a sei gia  stato caldamente invitato d...</td>\n",
              "      <td>0</td>\n",
              "    </tr>\n",
              "    <tr>\n",
              "      <th>7986</th>\n",
              "      <td>Scusa se ho pensato ke fossi una femmina.... d...</td>\n",
              "      <td>1</td>\n",
              "    </tr>\n",
              "    <tr>\n",
              "      <th>7990</th>\n",
              "      <td>Sei il primo che mi dice una cosa simile, e qu...</td>\n",
              "      <td>0</td>\n",
              "    </tr>\n",
              "    <tr>\n",
              "      <th>7995</th>\n",
              "      <td>Il fatto è che la pagina dei personaggi minor...</td>\n",
              "      <td>0</td>\n",
              "    </tr>\n",
              "    <tr>\n",
              "      <th>7999</th>\n",
              "      <td>lasciami la tua email per favore. ad ogni modo...</td>\n",
              "      <td>0</td>\n",
              "    </tr>\n",
              "  </tbody>\n",
              "</table>\n",
              "<p>2500 rows × 2 columns</p>\n",
              "</div>"
            ],
            "text/plain": [
              "                                           comment_text  toxic\n",
              "1     Il testo di questa voce pare esser scopiazzato...      0\n",
              "10    Ciao, in sintesi Ti dico questo, trovo sbaglia...      0\n",
              "16    il buon senso non lo usate voi. siete voi i ve...      1\n",
              "17    In riguardo a cio  che ho pubblicato e tu hai ...      1\n",
              "19    Ma che cosa stai dicendo!??? Questa è la versi...      1\n",
              "...                                                 ...    ...\n",
              "7985  sbaglio a sei gia  stato caldamente invitato d...      0\n",
              "7986  Scusa se ho pensato ke fossi una femmina.... d...      1\n",
              "7990  Sei il primo che mi dice una cosa simile, e qu...      0\n",
              "7995   Il fatto è che la pagina dei personaggi minor...      0\n",
              "7999  lasciami la tua email per favore. ad ogni modo...      0\n",
              "\n",
              "[2500 rows x 2 columns]"
            ]
          },
          "metadata": {
            "tags": []
          },
          "execution_count": 248
        }
      ]
    },
    {
      "cell_type": "code",
      "metadata": {
        "id": "vJWkVsYIo6_C"
      },
      "source": [
        ""
      ],
      "execution_count": null,
      "outputs": []
    },
    {
      "cell_type": "code",
      "metadata": {
        "id": "ELyhpbFyU4x_"
      },
      "source": [
        "\n",
        "x_test = encode(compined_test_languages_df['test_set_it'].comment_text.values, tokenizer, MAX_LEN)"
      ],
      "execution_count": null,
      "outputs": []
    },
    {
      "cell_type": "code",
      "metadata": {
        "id": "HCdDep4sU4yA"
      },
      "source": [
        "\n",
        "test_dataset = (\n",
        "      tf.data.Dataset\n",
        "      .from_tensor_slices(x_test)\n",
        "      .batch(BATCH_SIZE)\n",
        "  )\n"
      ],
      "execution_count": null,
      "outputs": []
    },
    {
      "cell_type": "code",
      "metadata": {
        "colab": {
          "base_uri": "https://localhost:8080/"
        },
        "id": "HIUiRaAUU4yB",
        "outputId": "8a48f599-6c6b-4deb-f97e-79bc4d6f6b9f"
      },
      "source": [
        "compined_test_languages_df['test_set_it'][\"Predicted\"] = model.predict(test_dataset , verbose=1 )"
      ],
      "execution_count": null,
      "outputs": [
        {
          "output_type": "stream",
          "text": [
            "10/10 [==============================] - 2s 55ms/step\n"
          ],
          "name": "stdout"
        }
      ]
    },
    {
      "cell_type": "code",
      "metadata": {
        "id": "ywlbM90SU4yB"
      },
      "source": [
        "compined_test_languages_df['test_set_it'][\"Predicted\"] = compined_test_languages_df['test_set_it'][\"Predicted\"].round()"
      ],
      "execution_count": null,
      "outputs": []
    },
    {
      "cell_type": "code",
      "metadata": {
        "colab": {
          "base_uri": "https://localhost:8080/",
          "height": 419
        },
        "id": "Mr86nZWOo_-D",
        "outputId": "959cac18-71ba-4a29-f303-af5925f65ef9"
      },
      "source": [
        "compined_test_languages_df['test_set_it']"
      ],
      "execution_count": null,
      "outputs": [
        {
          "output_type": "execute_result",
          "data": {
            "text/html": [
              "<div>\n",
              "<style scoped>\n",
              "    .dataframe tbody tr th:only-of-type {\n",
              "        vertical-align: middle;\n",
              "    }\n",
              "\n",
              "    .dataframe tbody tr th {\n",
              "        vertical-align: top;\n",
              "    }\n",
              "\n",
              "    .dataframe thead th {\n",
              "        text-align: right;\n",
              "    }\n",
              "</style>\n",
              "<table border=\"1\" class=\"dataframe\">\n",
              "  <thead>\n",
              "    <tr style=\"text-align: right;\">\n",
              "      <th></th>\n",
              "      <th>comment_text</th>\n",
              "      <th>toxic</th>\n",
              "      <th>Predicted</th>\n",
              "    </tr>\n",
              "  </thead>\n",
              "  <tbody>\n",
              "    <tr>\n",
              "      <th>1</th>\n",
              "      <td>Il testo di questa voce pare esser scopiazzato...</td>\n",
              "      <td>0</td>\n",
              "      <td>0.0</td>\n",
              "    </tr>\n",
              "    <tr>\n",
              "      <th>10</th>\n",
              "      <td>Ciao, in sintesi Ti dico questo, trovo sbaglia...</td>\n",
              "      <td>0</td>\n",
              "      <td>0.0</td>\n",
              "    </tr>\n",
              "    <tr>\n",
              "      <th>16</th>\n",
              "      <td>il buon senso non lo usate voi. siete voi i ve...</td>\n",
              "      <td>1</td>\n",
              "      <td>1.0</td>\n",
              "    </tr>\n",
              "    <tr>\n",
              "      <th>17</th>\n",
              "      <td>In riguardo a cio  che ho pubblicato e tu hai ...</td>\n",
              "      <td>1</td>\n",
              "      <td>1.0</td>\n",
              "    </tr>\n",
              "    <tr>\n",
              "      <th>19</th>\n",
              "      <td>Ma che cosa stai dicendo!??? Questa è la versi...</td>\n",
              "      <td>1</td>\n",
              "      <td>1.0</td>\n",
              "    </tr>\n",
              "    <tr>\n",
              "      <th>...</th>\n",
              "      <td>...</td>\n",
              "      <td>...</td>\n",
              "      <td>...</td>\n",
              "    </tr>\n",
              "    <tr>\n",
              "      <th>7985</th>\n",
              "      <td>sbaglio a sei gia  stato caldamente invitato d...</td>\n",
              "      <td>0</td>\n",
              "      <td>1.0</td>\n",
              "    </tr>\n",
              "    <tr>\n",
              "      <th>7986</th>\n",
              "      <td>Scusa se ho pensato ke fossi una femmina.... d...</td>\n",
              "      <td>1</td>\n",
              "      <td>1.0</td>\n",
              "    </tr>\n",
              "    <tr>\n",
              "      <th>7990</th>\n",
              "      <td>Sei il primo che mi dice una cosa simile, e qu...</td>\n",
              "      <td>0</td>\n",
              "      <td>0.0</td>\n",
              "    </tr>\n",
              "    <tr>\n",
              "      <th>7995</th>\n",
              "      <td>Il fatto è che la pagina dei personaggi minor...</td>\n",
              "      <td>0</td>\n",
              "      <td>0.0</td>\n",
              "    </tr>\n",
              "    <tr>\n",
              "      <th>7999</th>\n",
              "      <td>lasciami la tua email per favore. ad ogni modo...</td>\n",
              "      <td>0</td>\n",
              "      <td>0.0</td>\n",
              "    </tr>\n",
              "  </tbody>\n",
              "</table>\n",
              "<p>2500 rows × 3 columns</p>\n",
              "</div>"
            ],
            "text/plain": [
              "                                           comment_text  toxic  Predicted\n",
              "1     Il testo di questa voce pare esser scopiazzato...      0        0.0\n",
              "10    Ciao, in sintesi Ti dico questo, trovo sbaglia...      0        0.0\n",
              "16    il buon senso non lo usate voi. siete voi i ve...      1        1.0\n",
              "17    In riguardo a cio  che ho pubblicato e tu hai ...      1        1.0\n",
              "19    Ma che cosa stai dicendo!??? Questa è la versi...      1        1.0\n",
              "...                                                 ...    ...        ...\n",
              "7985  sbaglio a sei gia  stato caldamente invitato d...      0        1.0\n",
              "7986  Scusa se ho pensato ke fossi una femmina.... d...      1        1.0\n",
              "7990  Sei il primo che mi dice una cosa simile, e qu...      0        0.0\n",
              "7995   Il fatto è che la pagina dei personaggi minor...      0        0.0\n",
              "7999  lasciami la tua email per favore. ad ogni modo...      0        0.0\n",
              "\n",
              "[2500 rows x 3 columns]"
            ]
          },
          "metadata": {
            "tags": []
          },
          "execution_count": 253
        }
      ]
    },
    {
      "cell_type": "code",
      "metadata": {
        "colab": {
          "base_uri": "https://localhost:8080/"
        },
        "id": "JVp8z7HoVG_a",
        "outputId": "92530793-9bde-443b-ab5c-ebae07bf8174"
      },
      "source": [
        "from sklearn.metrics import accuracy_score\n",
        "y_pred_italian = compined_test_languages_df['test_set_it']['Predicted'].tolist()\n",
        "y_true_italian = compined_test_languages_df['test_set_it']['toxic'].tolist()\n",
        "accuracy_score(y_true_italian, y_pred_italian)"
      ],
      "execution_count": null,
      "outputs": [
        {
          "output_type": "execute_result",
          "data": {
            "text/plain": [
              "0.9788"
            ]
          },
          "metadata": {
            "tags": []
          },
          "execution_count": 254
        }
      ]
    },
    {
      "cell_type": "code",
      "metadata": {
        "colab": {
          "base_uri": "https://localhost:8080/"
        },
        "id": "BeeEnfws-pyz",
        "outputId": "ed04ff41-c35b-4420-8451-3bfe2fc534f6"
      },
      "source": [
        "from sklearn.metrics import roc_curve, roc_auc_score\n",
        "italian_combined_auc = roc_auc_score(y_true_italian, y_pred_italian)\n",
        "italian_combined_auc\n",
        "\n"
      ],
      "execution_count": null,
      "outputs": [
        {
          "output_type": "execute_result",
          "data": {
            "text/plain": [
              "0.9705313202750708"
            ]
          },
          "metadata": {
            "tags": []
          },
          "execution_count": 255
        }
      ]
    },
    {
      "cell_type": "code",
      "metadata": {
        "colab": {
          "base_uri": "https://localhost:8080/"
        },
        "id": "M6aZT84M-r7g",
        "outputId": "83870d5b-1f16-4fb1-8abc-2de3a80d753f"
      },
      "source": [
        "from sklearn.metrics import precision_recall_fscore_support\n",
        "precision ,recall, fscore , _  =precision_recall_fscore_support(y_true_italian, y_pred_italian, average='weighted')\n",
        "print('precision:' , precision , '    recall : '  ,recall, '    fscore : ' ,fscore)"
      ],
      "execution_count": null,
      "outputs": [
        {
          "output_type": "stream",
          "text": [
            "precision: 0.9790359874171131     recall :  0.9788     fscore :  0.9788890801955448\n"
          ],
          "name": "stdout"
        }
      ]
    },
    {
      "cell_type": "markdown",
      "metadata": {
        "id": "nt1QbpNcKncu"
      },
      "source": [
        "## Spanish test Dataset "
      ]
    },
    {
      "cell_type": "code",
      "metadata": {
        "colab": {
          "base_uri": "https://localhost:8080/",
          "height": 419
        },
        "id": "ERaKeyhDpg5V",
        "outputId": "e1d767ce-14ee-4637-a5a7-e2e4ab7300f1"
      },
      "source": [
        "compined_test_languages_df['test_set_es']"
      ],
      "execution_count": null,
      "outputs": [
        {
          "output_type": "execute_result",
          "data": {
            "text/html": [
              "<div>\n",
              "<style scoped>\n",
              "    .dataframe tbody tr th:only-of-type {\n",
              "        vertical-align: middle;\n",
              "    }\n",
              "\n",
              "    .dataframe tbody tr th {\n",
              "        vertical-align: top;\n",
              "    }\n",
              "\n",
              "    .dataframe thead th {\n",
              "        text-align: right;\n",
              "    }\n",
              "</style>\n",
              "<table border=\"1\" class=\"dataframe\">\n",
              "  <thead>\n",
              "    <tr style=\"text-align: right;\">\n",
              "      <th></th>\n",
              "      <th>comment_text</th>\n",
              "      <th>toxic</th>\n",
              "    </tr>\n",
              "  </thead>\n",
              "  <tbody>\n",
              "    <tr>\n",
              "      <th>0</th>\n",
              "      <td>Este usuario ni siquiera llega al rango de    ...</td>\n",
              "      <td>0</td>\n",
              "    </tr>\n",
              "    <tr>\n",
              "      <th>2</th>\n",
              "      <td>Vale. Sólo expongo mi pasado. Todo tiempo pasa...</td>\n",
              "      <td>1</td>\n",
              "    </tr>\n",
              "    <tr>\n",
              "      <th>6</th>\n",
              "      <td>No es mala idea. De hecho, yo estaba pensando ...</td>\n",
              "      <td>0</td>\n",
              "    </tr>\n",
              "    <tr>\n",
              "      <th>9</th>\n",
              "      <td>Creo que es importante que podamos reconocer a...</td>\n",
              "      <td>0</td>\n",
              "    </tr>\n",
              "    <tr>\n",
              "      <th>12</th>\n",
              "      <td>No sabemos quien es el autor del pie de imagen...</td>\n",
              "      <td>0</td>\n",
              "    </tr>\n",
              "    <tr>\n",
              "      <th>...</th>\n",
              "      <td>...</td>\n",
              "      <td>...</td>\n",
              "    </tr>\n",
              "    <tr>\n",
              "      <th>7989</th>\n",
              "      <td>+1 para el tipo que dice que es vandalismo, ma...</td>\n",
              "      <td>1</td>\n",
              "    </tr>\n",
              "    <tr>\n",
              "      <th>7991</th>\n",
              "      <td>No has demostrado nada. Mientes de forma desca...</td>\n",
              "      <td>0</td>\n",
              "    </tr>\n",
              "    <tr>\n",
              "      <th>7994</th>\n",
              "      <td>Hola Santiago! Te he contestado en tu página d...</td>\n",
              "      <td>0</td>\n",
              "    </tr>\n",
              "    <tr>\n",
              "      <th>7996</th>\n",
              "      <td>El imbesil ete dela luna no se entera ni ostia...</td>\n",
              "      <td>1</td>\n",
              "    </tr>\n",
              "    <tr>\n",
              "      <th>7998</th>\n",
              "      <td>El mapa del reinado de Alhaken esta ligerament...</td>\n",
              "      <td>0</td>\n",
              "    </tr>\n",
              "  </tbody>\n",
              "</table>\n",
              "<p>2500 rows × 2 columns</p>\n",
              "</div>"
            ],
            "text/plain": [
              "                                           comment_text  toxic\n",
              "0     Este usuario ni siquiera llega al rango de    ...      0\n",
              "2     Vale. Sólo expongo mi pasado. Todo tiempo pasa...      1\n",
              "6     No es mala idea. De hecho, yo estaba pensando ...      0\n",
              "9     Creo que es importante que podamos reconocer a...      0\n",
              "12    No sabemos quien es el autor del pie de imagen...      0\n",
              "...                                                 ...    ...\n",
              "7989  +1 para el tipo que dice que es vandalismo, ma...      1\n",
              "7991  No has demostrado nada. Mientes de forma desca...      0\n",
              "7994  Hola Santiago! Te he contestado en tu página d...      0\n",
              "7996  El imbesil ete dela luna no se entera ni ostia...      1\n",
              "7998  El mapa del reinado de Alhaken esta ligerament...      0\n",
              "\n",
              "[2500 rows x 2 columns]"
            ]
          },
          "metadata": {
            "tags": []
          },
          "execution_count": 257
        }
      ]
    },
    {
      "cell_type": "code",
      "metadata": {
        "id": "3qfwQL_qpg5X"
      },
      "source": [
        ""
      ],
      "execution_count": null,
      "outputs": []
    },
    {
      "cell_type": "code",
      "metadata": {
        "id": "i1qy1Thqpg5X"
      },
      "source": [
        "\n",
        "x_test = encode(compined_test_languages_df['test_set_es'].comment_text.values, tokenizer, MAX_LEN)"
      ],
      "execution_count": null,
      "outputs": []
    },
    {
      "cell_type": "code",
      "metadata": {
        "id": "GNdUz3anpg5X"
      },
      "source": [
        "\n",
        "test_dataset = (\n",
        "      tf.data.Dataset\n",
        "      .from_tensor_slices(x_test)\n",
        "      .batch(BATCH_SIZE)\n",
        "  )\n"
      ],
      "execution_count": null,
      "outputs": []
    },
    {
      "cell_type": "code",
      "metadata": {
        "colab": {
          "base_uri": "https://localhost:8080/"
        },
        "id": "ma8n7o48pg5Y",
        "outputId": "323c1912-035b-4ff8-b751-2c1e628a5c4f"
      },
      "source": [
        "compined_test_languages_df['test_set_es'][\"Predicted\"] = model.predict(test_dataset , verbose=1 )"
      ],
      "execution_count": null,
      "outputs": [
        {
          "output_type": "stream",
          "text": [
            "10/10 [==============================] - 1s 55ms/step\n"
          ],
          "name": "stdout"
        }
      ]
    },
    {
      "cell_type": "code",
      "metadata": {
        "id": "9d0uyLPgpg5Y"
      },
      "source": [
        "compined_test_languages_df['test_set_es'][\"Predicted\"] = compined_test_languages_df['test_set_es'][\"Predicted\"].round()"
      ],
      "execution_count": null,
      "outputs": []
    },
    {
      "cell_type": "code",
      "metadata": {
        "colab": {
          "base_uri": "https://localhost:8080/",
          "height": 419
        },
        "id": "-Ve0Y0Hzpg5Y",
        "outputId": "29e5a0bb-e80f-4dc5-972e-e97ce18372e4"
      },
      "source": [
        "compined_test_languages_df['test_set_es']"
      ],
      "execution_count": null,
      "outputs": [
        {
          "output_type": "execute_result",
          "data": {
            "text/html": [
              "<div>\n",
              "<style scoped>\n",
              "    .dataframe tbody tr th:only-of-type {\n",
              "        vertical-align: middle;\n",
              "    }\n",
              "\n",
              "    .dataframe tbody tr th {\n",
              "        vertical-align: top;\n",
              "    }\n",
              "\n",
              "    .dataframe thead th {\n",
              "        text-align: right;\n",
              "    }\n",
              "</style>\n",
              "<table border=\"1\" class=\"dataframe\">\n",
              "  <thead>\n",
              "    <tr style=\"text-align: right;\">\n",
              "      <th></th>\n",
              "      <th>comment_text</th>\n",
              "      <th>toxic</th>\n",
              "      <th>Predicted</th>\n",
              "    </tr>\n",
              "  </thead>\n",
              "  <tbody>\n",
              "    <tr>\n",
              "      <th>0</th>\n",
              "      <td>Este usuario ni siquiera llega al rango de    ...</td>\n",
              "      <td>0</td>\n",
              "      <td>0.0</td>\n",
              "    </tr>\n",
              "    <tr>\n",
              "      <th>2</th>\n",
              "      <td>Vale. Sólo expongo mi pasado. Todo tiempo pasa...</td>\n",
              "      <td>1</td>\n",
              "      <td>1.0</td>\n",
              "    </tr>\n",
              "    <tr>\n",
              "      <th>6</th>\n",
              "      <td>No es mala idea. De hecho, yo estaba pensando ...</td>\n",
              "      <td>0</td>\n",
              "      <td>0.0</td>\n",
              "    </tr>\n",
              "    <tr>\n",
              "      <th>9</th>\n",
              "      <td>Creo que es importante que podamos reconocer a...</td>\n",
              "      <td>0</td>\n",
              "      <td>0.0</td>\n",
              "    </tr>\n",
              "    <tr>\n",
              "      <th>12</th>\n",
              "      <td>No sabemos quien es el autor del pie de imagen...</td>\n",
              "      <td>0</td>\n",
              "      <td>0.0</td>\n",
              "    </tr>\n",
              "    <tr>\n",
              "      <th>...</th>\n",
              "      <td>...</td>\n",
              "      <td>...</td>\n",
              "      <td>...</td>\n",
              "    </tr>\n",
              "    <tr>\n",
              "      <th>7989</th>\n",
              "      <td>+1 para el tipo que dice que es vandalismo, ma...</td>\n",
              "      <td>1</td>\n",
              "      <td>1.0</td>\n",
              "    </tr>\n",
              "    <tr>\n",
              "      <th>7991</th>\n",
              "      <td>No has demostrado nada. Mientes de forma desca...</td>\n",
              "      <td>0</td>\n",
              "      <td>0.0</td>\n",
              "    </tr>\n",
              "    <tr>\n",
              "      <th>7994</th>\n",
              "      <td>Hola Santiago! Te he contestado en tu página d...</td>\n",
              "      <td>0</td>\n",
              "      <td>0.0</td>\n",
              "    </tr>\n",
              "    <tr>\n",
              "      <th>7996</th>\n",
              "      <td>El imbesil ete dela luna no se entera ni ostia...</td>\n",
              "      <td>1</td>\n",
              "      <td>1.0</td>\n",
              "    </tr>\n",
              "    <tr>\n",
              "      <th>7998</th>\n",
              "      <td>El mapa del reinado de Alhaken esta ligerament...</td>\n",
              "      <td>0</td>\n",
              "      <td>0.0</td>\n",
              "    </tr>\n",
              "  </tbody>\n",
              "</table>\n",
              "<p>2500 rows × 3 columns</p>\n",
              "</div>"
            ],
            "text/plain": [
              "                                           comment_text  toxic  Predicted\n",
              "0     Este usuario ni siquiera llega al rango de    ...      0        0.0\n",
              "2     Vale. Sólo expongo mi pasado. Todo tiempo pasa...      1        1.0\n",
              "6     No es mala idea. De hecho, yo estaba pensando ...      0        0.0\n",
              "9     Creo que es importante que podamos reconocer a...      0        0.0\n",
              "12    No sabemos quien es el autor del pie de imagen...      0        0.0\n",
              "...                                                 ...    ...        ...\n",
              "7989  +1 para el tipo que dice que es vandalismo, ma...      1        1.0\n",
              "7991  No has demostrado nada. Mientes de forma desca...      0        0.0\n",
              "7994  Hola Santiago! Te he contestado en tu página d...      0        0.0\n",
              "7996  El imbesil ete dela luna no se entera ni ostia...      1        1.0\n",
              "7998  El mapa del reinado de Alhaken esta ligerament...      0        0.0\n",
              "\n",
              "[2500 rows x 3 columns]"
            ]
          },
          "metadata": {
            "tags": []
          },
          "execution_count": 262
        }
      ]
    },
    {
      "cell_type": "code",
      "metadata": {
        "colab": {
          "base_uri": "https://localhost:8080/"
        },
        "id": "fYW7hgePpg5Z",
        "outputId": "d27c957f-eaa7-44d1-e43c-749bc89776d7"
      },
      "source": [
        "from sklearn.metrics import accuracy_score\n",
        "y_pred_es = compined_test_languages_df['test_set_es']['Predicted'].tolist()\n",
        "y_true_es = compined_test_languages_df['test_set_es']['toxic'].tolist()\n",
        "accuracy_score(y_true_es, y_pred_es)"
      ],
      "execution_count": null,
      "outputs": [
        {
          "output_type": "execute_result",
          "data": {
            "text/plain": [
              "0.9784"
            ]
          },
          "metadata": {
            "tags": []
          },
          "execution_count": 263
        }
      ]
    },
    {
      "cell_type": "code",
      "metadata": {
        "id": "7puFIwlEAP_r",
        "colab": {
          "base_uri": "https://localhost:8080/"
        },
        "outputId": "1ebc9d4b-0400-43bb-c328-26160eb20e6d"
      },
      "source": [
        "from sklearn.metrics import roc_curve, roc_auc_score\n",
        "spanish_combined_auc = roc_auc_score(y_true_es, y_pred_es)\n",
        "spanish_combined_auc\n"
      ],
      "execution_count": null,
      "outputs": [
        {
          "output_type": "execute_result",
          "data": {
            "text/plain": [
              "0.9700108106135592"
            ]
          },
          "metadata": {
            "tags": []
          },
          "execution_count": 264
        }
      ]
    },
    {
      "cell_type": "code",
      "metadata": {
        "colab": {
          "base_uri": "https://localhost:8080/"
        },
        "id": "YTo9bYP9-7My",
        "outputId": "673a2422-0fb9-4687-fe38-675f093b63d6"
      },
      "source": [
        "from sklearn.metrics import precision_recall_fscore_support\n",
        "precision ,recall, fscore , _  =precision_recall_fscore_support(y_true_es, y_pred_es, average='weighted')\n",
        "print('precision:' , precision , '    recall : '  ,recall, '    fscore : ' ,fscore)"
      ],
      "execution_count": null,
      "outputs": [
        {
          "output_type": "stream",
          "text": [
            "precision: 0.9789261782877318     recall :  0.9784     fscore :  0.9785785428247503\n"
          ],
          "name": "stdout"
        }
      ]
    },
    {
      "cell_type": "markdown",
      "metadata": {
        "id": "MALcN_SdK2Z6"
      },
      "source": [
        "## Turkish test Dataset "
      ]
    },
    {
      "cell_type": "code",
      "metadata": {
        "colab": {
          "base_uri": "https://localhost:8080/",
          "height": 419
        },
        "id": "f_5GelZGpuPV",
        "outputId": "e02946bd-f453-4130-d8fc-44b9e4662b63"
      },
      "source": [
        "compined_test_languages_df['test_set_tr']"
      ],
      "execution_count": null,
      "outputs": [
        {
          "output_type": "execute_result",
          "data": {
            "text/html": [
              "<div>\n",
              "<style scoped>\n",
              "    .dataframe tbody tr th:only-of-type {\n",
              "        vertical-align: middle;\n",
              "    }\n",
              "\n",
              "    .dataframe tbody tr th {\n",
              "        vertical-align: top;\n",
              "    }\n",
              "\n",
              "    .dataframe thead th {\n",
              "        text-align: right;\n",
              "    }\n",
              "</style>\n",
              "<table border=\"1\" class=\"dataframe\">\n",
              "  <thead>\n",
              "    <tr style=\"text-align: right;\">\n",
              "      <th></th>\n",
              "      <th>comment_text</th>\n",
              "      <th>toxic</th>\n",
              "    </tr>\n",
              "  </thead>\n",
              "  <tbody>\n",
              "    <tr>\n",
              "      <th>3</th>\n",
              "      <td>Bu maddenin alt başlığı olarak  uluslararası i...</td>\n",
              "      <td>0</td>\n",
              "    </tr>\n",
              "    <tr>\n",
              "      <th>4</th>\n",
              "      <td>Belçika nın şehirlerinin yanında ilçe ve belde...</td>\n",
              "      <td>0</td>\n",
              "    </tr>\n",
              "    <tr>\n",
              "      <th>5</th>\n",
              "      <td>güzel, zaten kaynaklandırması zor subjektif ka...</td>\n",
              "      <td>0</td>\n",
              "    </tr>\n",
              "    <tr>\n",
              "      <th>7</th>\n",
              "      <td>Kod hatalarını düzeltmişsiniz,elinize sağlık ç...</td>\n",
              "      <td>0</td>\n",
              "    </tr>\n",
              "    <tr>\n",
              "      <th>8</th>\n",
              "      <td>Levent Abi nasılsın? Hayat nasıl gidiyor? Umar...</td>\n",
              "      <td>0</td>\n",
              "    </tr>\n",
              "    <tr>\n",
              "      <th>...</th>\n",
              "      <td>...</td>\n",
              "      <td>...</td>\n",
              "    </tr>\n",
              "    <tr>\n",
              "      <th>7987</th>\n",
              "      <td>Merhaba, Dediğiniz durum sıkça yaşanıyor. Ben ...</td>\n",
              "      <td>0</td>\n",
              "    </tr>\n",
              "    <tr>\n",
              "      <th>7988</th>\n",
              "      <td>Aynen. kübada hiç bir dönem sosyalist inşa ger...</td>\n",
              "      <td>0</td>\n",
              "    </tr>\n",
              "    <tr>\n",
              "      <th>7992</th>\n",
              "      <td>Hcagri isimli kullanıcı öğrenme süreci hakkınd...</td>\n",
              "      <td>0</td>\n",
              "    </tr>\n",
              "    <tr>\n",
              "      <th>7993</th>\n",
              "      <td>Öyle sanıyorum ki bahsettiğiniz Şəmsi Bədəlbəy...</td>\n",
              "      <td>0</td>\n",
              "    </tr>\n",
              "    <tr>\n",
              "      <th>7997</th>\n",
              "      <td>olum sız manyakmısınz siz adam sıze sanal yıld...</td>\n",
              "      <td>1</td>\n",
              "    </tr>\n",
              "  </tbody>\n",
              "</table>\n",
              "<p>3000 rows × 2 columns</p>\n",
              "</div>"
            ],
            "text/plain": [
              "                                           comment_text  toxic\n",
              "3     Bu maddenin alt başlığı olarak  uluslararası i...      0\n",
              "4     Belçika nın şehirlerinin yanında ilçe ve belde...      0\n",
              "5     güzel, zaten kaynaklandırması zor subjektif ka...      0\n",
              "7     Kod hatalarını düzeltmişsiniz,elinize sağlık ç...      0\n",
              "8     Levent Abi nasılsın? Hayat nasıl gidiyor? Umar...      0\n",
              "...                                                 ...    ...\n",
              "7987  Merhaba, Dediğiniz durum sıkça yaşanıyor. Ben ...      0\n",
              "7988  Aynen. kübada hiç bir dönem sosyalist inşa ger...      0\n",
              "7992  Hcagri isimli kullanıcı öğrenme süreci hakkınd...      0\n",
              "7993  Öyle sanıyorum ki bahsettiğiniz Şəmsi Bədəlbəy...      0\n",
              "7997  olum sız manyakmısınz siz adam sıze sanal yıld...      1\n",
              "\n",
              "[3000 rows x 2 columns]"
            ]
          },
          "metadata": {
            "tags": []
          },
          "execution_count": 266
        }
      ]
    },
    {
      "cell_type": "code",
      "metadata": {
        "id": "Oyr_V2p5puPX"
      },
      "source": [
        "\n",
        "x_test = encode(compined_test_languages_df['test_set_tr'].comment_text.values, tokenizer, MAX_LEN)"
      ],
      "execution_count": null,
      "outputs": []
    },
    {
      "cell_type": "code",
      "metadata": {
        "id": "n19nscvlpuPX"
      },
      "source": [
        "\n",
        "test_dataset = (\n",
        "      tf.data.Dataset\n",
        "      .from_tensor_slices(x_test)\n",
        "      .batch(BATCH_SIZE)\n",
        "  )\n"
      ],
      "execution_count": null,
      "outputs": []
    },
    {
      "cell_type": "code",
      "metadata": {
        "colab": {
          "base_uri": "https://localhost:8080/"
        },
        "id": "KrXsnolCpuPY",
        "outputId": "5a33d47b-ad9b-482f-be5d-9010b2469ff4"
      },
      "source": [
        "compined_test_languages_df['test_set_tr'][\"Predicted\"] = model.predict(test_dataset , verbose=1 )"
      ],
      "execution_count": null,
      "outputs": [
        {
          "output_type": "stream",
          "text": [
            "12/12 [==============================] - 5s 377ms/step\n"
          ],
          "name": "stdout"
        }
      ]
    },
    {
      "cell_type": "code",
      "metadata": {
        "id": "kcsSb3-SpuPY"
      },
      "source": [
        "compined_test_languages_df['test_set_tr'][\"Predicted\"] = compined_test_languages_df['test_set_tr'][\"Predicted\"].round()"
      ],
      "execution_count": null,
      "outputs": []
    },
    {
      "cell_type": "code",
      "metadata": {
        "colab": {
          "base_uri": "https://localhost:8080/",
          "height": 419
        },
        "id": "q7hs82DBpuPY",
        "outputId": "bb9fda3a-33e3-4326-dd8c-f7e3835eab14"
      },
      "source": [
        "compined_test_languages_df['test_set_tr']"
      ],
      "execution_count": null,
      "outputs": [
        {
          "output_type": "execute_result",
          "data": {
            "text/html": [
              "<div>\n",
              "<style scoped>\n",
              "    .dataframe tbody tr th:only-of-type {\n",
              "        vertical-align: middle;\n",
              "    }\n",
              "\n",
              "    .dataframe tbody tr th {\n",
              "        vertical-align: top;\n",
              "    }\n",
              "\n",
              "    .dataframe thead th {\n",
              "        text-align: right;\n",
              "    }\n",
              "</style>\n",
              "<table border=\"1\" class=\"dataframe\">\n",
              "  <thead>\n",
              "    <tr style=\"text-align: right;\">\n",
              "      <th></th>\n",
              "      <th>comment_text</th>\n",
              "      <th>toxic</th>\n",
              "      <th>Predicted</th>\n",
              "    </tr>\n",
              "  </thead>\n",
              "  <tbody>\n",
              "    <tr>\n",
              "      <th>3</th>\n",
              "      <td>Bu maddenin alt başlığı olarak  uluslararası i...</td>\n",
              "      <td>0</td>\n",
              "      <td>0.0</td>\n",
              "    </tr>\n",
              "    <tr>\n",
              "      <th>4</th>\n",
              "      <td>Belçika nın şehirlerinin yanında ilçe ve belde...</td>\n",
              "      <td>0</td>\n",
              "      <td>0.0</td>\n",
              "    </tr>\n",
              "    <tr>\n",
              "      <th>5</th>\n",
              "      <td>güzel, zaten kaynaklandırması zor subjektif ka...</td>\n",
              "      <td>0</td>\n",
              "      <td>0.0</td>\n",
              "    </tr>\n",
              "    <tr>\n",
              "      <th>7</th>\n",
              "      <td>Kod hatalarını düzeltmişsiniz,elinize sağlık ç...</td>\n",
              "      <td>0</td>\n",
              "      <td>0.0</td>\n",
              "    </tr>\n",
              "    <tr>\n",
              "      <th>8</th>\n",
              "      <td>Levent Abi nasılsın? Hayat nasıl gidiyor? Umar...</td>\n",
              "      <td>0</td>\n",
              "      <td>0.0</td>\n",
              "    </tr>\n",
              "    <tr>\n",
              "      <th>...</th>\n",
              "      <td>...</td>\n",
              "      <td>...</td>\n",
              "      <td>...</td>\n",
              "    </tr>\n",
              "    <tr>\n",
              "      <th>7987</th>\n",
              "      <td>Merhaba, Dediğiniz durum sıkça yaşanıyor. Ben ...</td>\n",
              "      <td>0</td>\n",
              "      <td>0.0</td>\n",
              "    </tr>\n",
              "    <tr>\n",
              "      <th>7988</th>\n",
              "      <td>Aynen. kübada hiç bir dönem sosyalist inşa ger...</td>\n",
              "      <td>0</td>\n",
              "      <td>0.0</td>\n",
              "    </tr>\n",
              "    <tr>\n",
              "      <th>7992</th>\n",
              "      <td>Hcagri isimli kullanıcı öğrenme süreci hakkınd...</td>\n",
              "      <td>0</td>\n",
              "      <td>0.0</td>\n",
              "    </tr>\n",
              "    <tr>\n",
              "      <th>7993</th>\n",
              "      <td>Öyle sanıyorum ki bahsettiğiniz Şəmsi Bədəlbəy...</td>\n",
              "      <td>0</td>\n",
              "      <td>0.0</td>\n",
              "    </tr>\n",
              "    <tr>\n",
              "      <th>7997</th>\n",
              "      <td>olum sız manyakmısınz siz adam sıze sanal yıld...</td>\n",
              "      <td>1</td>\n",
              "      <td>1.0</td>\n",
              "    </tr>\n",
              "  </tbody>\n",
              "</table>\n",
              "<p>3000 rows × 3 columns</p>\n",
              "</div>"
            ],
            "text/plain": [
              "                                           comment_text  toxic  Predicted\n",
              "3     Bu maddenin alt başlığı olarak  uluslararası i...      0        0.0\n",
              "4     Belçika nın şehirlerinin yanında ilçe ve belde...      0        0.0\n",
              "5     güzel, zaten kaynaklandırması zor subjektif ka...      0        0.0\n",
              "7     Kod hatalarını düzeltmişsiniz,elinize sağlık ç...      0        0.0\n",
              "8     Levent Abi nasılsın? Hayat nasıl gidiyor? Umar...      0        0.0\n",
              "...                                                 ...    ...        ...\n",
              "7987  Merhaba, Dediğiniz durum sıkça yaşanıyor. Ben ...      0        0.0\n",
              "7988  Aynen. kübada hiç bir dönem sosyalist inşa ger...      0        0.0\n",
              "7992  Hcagri isimli kullanıcı öğrenme süreci hakkınd...      0        0.0\n",
              "7993  Öyle sanıyorum ki bahsettiğiniz Şəmsi Bədəlbəy...      0        0.0\n",
              "7997  olum sız manyakmısınz siz adam sıze sanal yıld...      1        1.0\n",
              "\n",
              "[3000 rows x 3 columns]"
            ]
          },
          "metadata": {
            "tags": []
          },
          "execution_count": 271
        }
      ]
    },
    {
      "cell_type": "code",
      "metadata": {
        "colab": {
          "base_uri": "https://localhost:8080/"
        },
        "id": "EE1Gyp8bpuPY",
        "outputId": "0b5d4033-af64-4486-8d50-0523fa778e21"
      },
      "source": [
        "from sklearn.metrics import accuracy_score\n",
        "y_pred_tr = compined_test_languages_df['test_set_tr']['Predicted'].tolist()\n",
        "y_true_tr = compined_test_languages_df['test_set_tr']['toxic'].tolist()\n",
        "accuracy_score(y_true_tr, y_pred_tr)"
      ],
      "execution_count": null,
      "outputs": [
        {
          "output_type": "execute_result",
          "data": {
            "text/plain": [
              "0.995"
            ]
          },
          "metadata": {
            "tags": []
          },
          "execution_count": 272
        }
      ]
    },
    {
      "cell_type": "code",
      "metadata": {
        "id": "0tVEt3G2qVYI",
        "colab": {
          "base_uri": "https://localhost:8080/"
        },
        "outputId": "81905637-ad40-4ef6-8a3c-b4f68253cdf4"
      },
      "source": [
        "from sklearn.metrics import roc_curve, roc_auc_score\n",
        "tr_combined_auc = roc_auc_score(y_true_tr, y_pred_tr)\n",
        "tr_combined_auc\n"
      ],
      "execution_count": null,
      "outputs": [
        {
          "output_type": "execute_result",
          "data": {
            "text/plain": [
              "0.9903218283582089"
            ]
          },
          "metadata": {
            "tags": []
          },
          "execution_count": 273
        }
      ]
    },
    {
      "cell_type": "code",
      "metadata": {
        "id": "hmmc-B4HAZWF",
        "colab": {
          "base_uri": "https://localhost:8080/"
        },
        "outputId": "1e2badc2-b143-45b8-9c77-93d29b6a6a82"
      },
      "source": [
        "\n",
        "from sklearn.metrics import precision_recall_fscore_support\n",
        "precision ,recall, fscore , _  =precision_recall_fscore_support(y_true_tr, y_pred_tr, average='weighted')\n",
        "print('precision:' , precision , '    recall : '  ,recall, '    fscore : ' ,fscore)"
      ],
      "execution_count": null,
      "outputs": [
        {
          "output_type": "stream",
          "text": [
            "precision: 0.9950481667864846     recall :  0.995     fscore :  0.995017045577921\n"
          ],
          "name": "stdout"
        }
      ]
    },
    {
      "cell_type": "markdown",
      "metadata": {
        "id": "Lb_f7BMiBm6n"
      },
      "source": [
        "## Frensh Tweets Dataset"
      ]
    },
    {
      "cell_type": "code",
      "metadata": {
        "colab": {
          "base_uri": "https://localhost:8080/",
          "height": 204
        },
        "id": "ncOhwPn1BsR9",
        "outputId": "6fdccea5-e21d-4756-ddf8-3e0ae2ccb0ea"
      },
      "source": [
        "test_set = pd.read_csv('/content/french_tweets-003.csv')\n",
        "test_set.head(5)\n"
      ],
      "execution_count": null,
      "outputs": [
        {
          "output_type": "execute_result",
          "data": {
            "text/html": [
              "<div>\n",
              "<style scoped>\n",
              "    .dataframe tbody tr th:only-of-type {\n",
              "        vertical-align: middle;\n",
              "    }\n",
              "\n",
              "    .dataframe tbody tr th {\n",
              "        vertical-align: top;\n",
              "    }\n",
              "\n",
              "    .dataframe thead th {\n",
              "        text-align: right;\n",
              "    }\n",
              "</style>\n",
              "<table border=\"1\" class=\"dataframe\">\n",
              "  <thead>\n",
              "    <tr style=\"text-align: right;\">\n",
              "      <th></th>\n",
              "      <th>label</th>\n",
              "      <th>text</th>\n",
              "    </tr>\n",
              "  </thead>\n",
              "  <tbody>\n",
              "    <tr>\n",
              "      <th>0</th>\n",
              "      <td>0</td>\n",
              "      <td>Les prières vont à la famille de nick kolokith...</td>\n",
              "    </tr>\n",
              "    <tr>\n",
              "      <th>1</th>\n",
              "      <td>0</td>\n",
              "      <td>Je ne l'ai pas vue</td>\n",
              "    </tr>\n",
              "    <tr>\n",
              "      <th>2</th>\n",
              "      <td>0</td>\n",
              "      <td>Je voudrais penser que je suis une fille à têt...</td>\n",
              "    </tr>\n",
              "    <tr>\n",
              "      <th>3</th>\n",
              "      <td>0</td>\n",
              "      <td>Eh juste invité à un voyage gratuit à montreal...</td>\n",
              "    </tr>\n",
              "    <tr>\n",
              "      <th>4</th>\n",
              "      <td>0</td>\n",
              "      <td>Sur le chemin de l'accueil de Audrey. Elle ne ...</td>\n",
              "    </tr>\n",
              "  </tbody>\n",
              "</table>\n",
              "</div>"
            ],
            "text/plain": [
              "   label                                               text\n",
              "0      0  Les prières vont à la famille de nick kolokith...\n",
              "1      0                                 Je ne l'ai pas vue\n",
              "2      0  Je voudrais penser que je suis une fille à têt...\n",
              "3      0  Eh juste invité à un voyage gratuit à montreal...\n",
              "4      0  Sur le chemin de l'accueil de Audrey. Elle ne ..."
            ]
          },
          "metadata": {
            "tags": []
          },
          "execution_count": 275
        }
      ]
    },
    {
      "cell_type": "markdown",
      "metadata": {
        "id": "9-cyBhQ_Dj6f"
      },
      "source": [
        "##Data Analysis\n"
      ]
    },
    {
      "cell_type": "code",
      "metadata": {
        "colab": {
          "base_uri": "https://localhost:8080/",
          "height": 282
        },
        "id": "MhKll17WDnmW",
        "outputId": "317f52a7-f5a1-4be1-f210-d783ebe1a440"
      },
      "source": [
        "test_set['label'].value_counts().plot(kind = 'barh')"
      ],
      "execution_count": null,
      "outputs": [
        {
          "output_type": "execute_result",
          "data": {
            "text/plain": [
              "<matplotlib.axes._subplots.AxesSubplot at 0x7f165e198e48>"
            ]
          },
          "metadata": {
            "tags": []
          },
          "execution_count": 276
        },
        {
          "output_type": "display_data",
          "data": {
            "image/png": "[encoded data removed]",
            "text/plain": [
              "<Figure size 432x288 with 1 Axes>"
            ]
          },
          "metadata": {
            "tags": [],
            "needs_background": "light"
          }
        }
      ]
    },
    {
      "cell_type": "code",
      "metadata": {
        "colab": {
          "base_uri": "https://localhost:8080/",
          "height": 265
        },
        "id": "hP5oD4iMDnQy",
        "outputId": "5a3fd199-035e-40f5-b918-2368b57c3588"
      },
      "source": [
        "test_set['label'].value_counts().plot(kind = 'pie')\n"
      ],
      "execution_count": null,
      "outputs": [
        {
          "output_type": "execute_result",
          "data": {
            "text/plain": [
              "<matplotlib.axes._subplots.AxesSubplot at 0x7f165df8a908>"
            ]
          },
          "metadata": {
            "tags": []
          },
          "execution_count": 277
        },
        {
          "output_type": "display_data",
          "data": {
            "image/png": "[encoded data removed]",
            "text/plain": [
              "<Figure size 432x288 with 1 Axes>"
            ]
          },
          "metadata": {
            "tags": []
          }
        }
      ]
    },
    {
      "cell_type": "markdown",
      "metadata": {
        "id": "CoUr1yYyEA0e"
      },
      "source": [
        "## Testing Dataset\n"
      ]
    },
    {
      "cell_type": "code",
      "metadata": {
        "id": "HfsJSeoXEANK"
      },
      "source": [
        "\n",
        "x_test = encode(test_set.text.values, tokenizer, MAX_LEN)\n",
        "\n"
      ],
      "execution_count": null,
      "outputs": []
    },
    {
      "cell_type": "code",
      "metadata": {
        "id": "mPb-FP56EIrz"
      },
      "source": [
        "test_dataset = (\n",
        "      tf.data.Dataset\n",
        "      .from_tensor_slices(x_test)\n",
        "      .batch(BATCH_SIZE)\n",
        "  )"
      ],
      "execution_count": null,
      "outputs": []
    },
    {
      "cell_type": "code",
      "metadata": {
        "colab": {
          "base_uri": "https://localhost:8080/"
        },
        "id": "9vQs5pJ3EKW6",
        "outputId": "b56e8de8-0dc9-4197-a352-44098d5c487a"
      },
      "source": [
        " pr = model.predict(test_dataset , verbose=1 )\n",
        " "
      ],
      "execution_count": null,
      "outputs": [
        {
          "output_type": "stream",
          "text": [
            "782/782 [==============================] - 43s 53ms/step\n"
          ],
          "name": "stdout"
        }
      ]
    },
    {
      "cell_type": "code",
      "metadata": {
        "id": "HQ6f2ApREJ_9"
      },
      "source": [
        "test_set[\"Prediction\"] =pr"
      ],
      "execution_count": null,
      "outputs": []
    },
    {
      "cell_type": "code",
      "metadata": {
        "id": "X_xv2JagE_rT"
      },
      "source": [
        "test_set[\"Prediction\"] = test_set[\"Prediction\"].round()"
      ],
      "execution_count": null,
      "outputs": []
    },
    {
      "cell_type": "code",
      "metadata": {
        "colab": {
          "base_uri": "https://localhost:8080/",
          "height": 419
        },
        "id": "IP5EsnuSEZJl",
        "outputId": "cab2b3b9-2ad6-4900-9b27-776001764c73"
      },
      "source": [
        "test_set"
      ],
      "execution_count": null,
      "outputs": [
        {
          "output_type": "execute_result",
          "data": {
            "text/html": [
              "<div>\n",
              "<style scoped>\n",
              "    .dataframe tbody tr th:only-of-type {\n",
              "        vertical-align: middle;\n",
              "    }\n",
              "\n",
              "    .dataframe tbody tr th {\n",
              "        vertical-align: top;\n",
              "    }\n",
              "\n",
              "    .dataframe thead th {\n",
              "        text-align: right;\n",
              "    }\n",
              "</style>\n",
              "<table border=\"1\" class=\"dataframe\">\n",
              "  <thead>\n",
              "    <tr style=\"text-align: right;\">\n",
              "      <th></th>\n",
              "      <th>label</th>\n",
              "      <th>text</th>\n",
              "      <th>Prediction</th>\n",
              "    </tr>\n",
              "  </thead>\n",
              "  <tbody>\n",
              "    <tr>\n",
              "      <th>0</th>\n",
              "      <td>0</td>\n",
              "      <td>Les prières vont à la famille de nick kolokith...</td>\n",
              "      <td>0.0</td>\n",
              "    </tr>\n",
              "    <tr>\n",
              "      <th>1</th>\n",
              "      <td>0</td>\n",
              "      <td>Je ne l'ai pas vue</td>\n",
              "      <td>0.0</td>\n",
              "    </tr>\n",
              "    <tr>\n",
              "      <th>2</th>\n",
              "      <td>0</td>\n",
              "      <td>Je voudrais penser que je suis une fille à têt...</td>\n",
              "      <td>0.0</td>\n",
              "    </tr>\n",
              "    <tr>\n",
              "      <th>3</th>\n",
              "      <td>0</td>\n",
              "      <td>Eh juste invité à un voyage gratuit à montreal...</td>\n",
              "      <td>0.0</td>\n",
              "    </tr>\n",
              "    <tr>\n",
              "      <th>4</th>\n",
              "      <td>0</td>\n",
              "      <td>Sur le chemin de l'accueil de Audrey. Elle ne ...</td>\n",
              "      <td>0.0</td>\n",
              "    </tr>\n",
              "    <tr>\n",
              "      <th>...</th>\n",
              "      <td>...</td>\n",
              "      <td>...</td>\n",
              "      <td>...</td>\n",
              "    </tr>\n",
              "    <tr>\n",
              "      <th>199982</th>\n",
              "      <td>1</td>\n",
              "      <td>Est toujours une compagnie de musique pr ... m...</td>\n",
              "      <td>0.0</td>\n",
              "    </tr>\n",
              "    <tr>\n",
              "      <th>199983</th>\n",
              "      <td>1</td>\n",
              "      <td>Mcfly arrive au diner !! (: S'il vous plaît!!</td>\n",
              "      <td>0.0</td>\n",
              "    </tr>\n",
              "    <tr>\n",
              "      <th>199984</th>\n",
              "      <td>1</td>\n",
              "      <td>thanks man, prend un mojito a ma sant</td>\n",
              "      <td>0.0</td>\n",
              "    </tr>\n",
              "    <tr>\n",
              "      <th>199985</th>\n",
              "      <td>1</td>\n",
              "      <td>Vous devez</td>\n",
              "      <td>0.0</td>\n",
              "    </tr>\n",
              "    <tr>\n",
              "      <th>199986</th>\n",
              "      <td>1</td>\n",
              "      <td>Petit-déjeuner au lit tout en faisant des dess...</td>\n",
              "      <td>0.0</td>\n",
              "    </tr>\n",
              "  </tbody>\n",
              "</table>\n",
              "<p>199987 rows × 3 columns</p>\n",
              "</div>"
            ],
            "text/plain": [
              "        label                                               text  Prediction\n",
              "0           0  Les prières vont à la famille de nick kolokith...         0.0\n",
              "1           0                                 Je ne l'ai pas vue         0.0\n",
              "2           0  Je voudrais penser que je suis une fille à têt...         0.0\n",
              "3           0  Eh juste invité à un voyage gratuit à montreal...         0.0\n",
              "4           0  Sur le chemin de l'accueil de Audrey. Elle ne ...         0.0\n",
              "...       ...                                                ...         ...\n",
              "199982      1  Est toujours une compagnie de musique pr ... m...         0.0\n",
              "199983      1      Mcfly arrive au diner !! (: S'il vous plaît!!         0.0\n",
              "199984      1             thanks man, prend un mojito a ma sant          0.0\n",
              "199985      1                                         Vous devez         0.0\n",
              "199986      1  Petit-déjeuner au lit tout en faisant des dess...         0.0\n",
              "\n",
              "[199987 rows x 3 columns]"
            ]
          },
          "metadata": {
            "tags": []
          },
          "execution_count": 285
        }
      ]
    },
    {
      "cell_type": "markdown",
      "metadata": {
        "id": "OjvmGcayFClO"
      },
      "source": [
        "## Model Evaluation"
      ]
    },
    {
      "cell_type": "code",
      "metadata": {
        "colab": {
          "base_uri": "https://localhost:8080/"
        },
        "id": "okArceLwFSmr",
        "outputId": "820ba002-f76b-4dde-9e49-4f97e1a7f0f9"
      },
      "source": [
        "from sklearn.metrics import accuracy_score\n",
        "y_pred_fr = test_set[\"Prediction\"].tolist()\n",
        "y_true_fr = test_set[\"label\"].tolist()\n",
        "accuracy_score(y_true_fr, y_pred_fr)"
      ],
      "execution_count": null,
      "outputs": [
        {
          "output_type": "execute_result",
          "data": {
            "text/plain": [
              "0.7245820978363594"
            ]
          },
          "metadata": {
            "tags": []
          },
          "execution_count": 286
        }
      ]
    },
    {
      "cell_type": "code",
      "metadata": {
        "colab": {
          "base_uri": "https://localhost:8080/"
        },
        "id": "ixs-4JSaFSms",
        "outputId": "2a484d85-8c9a-4162-fa9c-279d379ef1c8"
      },
      "source": [
        "from sklearn.metrics import roc_curve, roc_auc_score\n",
        "frensh_combined_auc = roc_auc_score(y_true_fr, y_pred_fr)\n",
        "frensh_combined_auc"
      ],
      "execution_count": null,
      "outputs": [
        {
          "output_type": "execute_result",
          "data": {
            "text/plain": [
              "0.4743016862052975"
            ]
          },
          "metadata": {
            "tags": []
          },
          "execution_count": 287
        }
      ]
    },
    {
      "cell_type": "code",
      "metadata": {
        "colab": {
          "base_uri": "https://localhost:8080/"
        },
        "id": "X_FRFMdvFSms",
        "outputId": "4b91b7e7-16b7-4c63-b709-9aec3808e434"
      },
      "source": [
        "from sklearn.metrics import precision_recall_fscore_support\n",
        "precision ,recall, fscore , _  =precision_recall_fscore_support(y_true_fr, y_pred_fr, average='weighted')\n",
        "print('precision:' , precision , '    recall : '  ,recall, '    fscore : ' ,fscore)"
      ],
      "execution_count": null,
      "outputs": [
        {
          "output_type": "stream",
          "text": [
            "precision: 0.7448163363960814     recall :  0.7245820978363594     fscore :  0.7343897374181105\n"
          ],
          "name": "stdout"
        }
      ]
    },
    {
      "cell_type": "markdown",
      "metadata": {
        "id": "hYW2qOuvVo8x"
      },
      "source": [
        "# NEW GERMAN DATASET"
      ]
    },
    {
      "cell_type": "code",
      "metadata": {
        "id": "K8U7YlROT8AA"
      },
      "source": [
        "german_test = pd.read_csv('/content/german_dataset.tsv',sep='\\t')"
      ],
      "execution_count": null,
      "outputs": []
    },
    {
      "cell_type": "code",
      "metadata": {
        "id": "c8QTwxD9WFFE"
      },
      "source": [
        "german_test = german_test[['text' ,'task_1']]"
      ],
      "execution_count": null,
      "outputs": []
    },
    {
      "cell_type": "code",
      "metadata": {
        "id": "vZxrd1aXZA0N"
      },
      "source": [
        "german_test = german_test.replace({'task_1' : {'NOT' : 0 , 'HOF' : 1 } })"
      ],
      "execution_count": null,
      "outputs": []
    },
    {
      "cell_type": "code",
      "metadata": {
        "id": "BPuRyO0AaImf"
      },
      "source": [
        "german_test"
      ],
      "execution_count": null,
      "outputs": []
    },
    {
      "cell_type": "markdown",
      "metadata": {
        "id": "cfIKIov-anBq"
      },
      "source": [
        "# Data Analysis "
      ]
    },
    {
      "cell_type": "code",
      "metadata": {
        "colab": {
          "base_uri": "https://localhost:8080/",
          "height": 282
        },
        "id": "NsoKmec8agjK",
        "outputId": "841743bb-4d5b-4120-82bf-a1011818444e"
      },
      "source": [
        "german_test.task_1.value_counts().plot(kind = \"barh\")"
      ],
      "execution_count": null,
      "outputs": [
        {
          "output_type": "execute_result",
          "data": {
            "text/plain": [
              "<matplotlib.axes._subplots.AxesSubplot at 0x7f165e4d2550>"
            ]
          },
          "metadata": {
            "tags": []
          },
          "execution_count": 226
        },
        {
          "output_type": "display_data",
          "data": {
            "image/png": "[encoded data removed]",
            "text/plain": [
              "<Figure size 432x288 with 1 Axes>"
            ]
          },
          "metadata": {
            "tags": [],
            "needs_background": "light"
          }
        }
      ]
    },
    {
      "cell_type": "code",
      "metadata": {
        "colab": {
          "base_uri": "https://localhost:8080/",
          "height": 265
        },
        "id": "9bKrVCE5auSq",
        "outputId": "2a3756fd-0032-46dc-9fbe-b6827b65930c"
      },
      "source": [
        "german_test.task_1.value_counts().plot(kind = \"pie\")"
      ],
      "execution_count": null,
      "outputs": [
        {
          "output_type": "execute_result",
          "data": {
            "text/plain": [
              "<matplotlib.axes._subplots.AxesSubplot at 0x7f165f2f4908>"
            ]
          },
          "metadata": {
            "tags": []
          },
          "execution_count": 227
        },
        {
          "output_type": "display_data",
          "data": {
            "image/png": "[encoded data removed]",
            "text/plain": [
              "<Figure size 432x288 with 1 Axes>"
            ]
          },
          "metadata": {
            "tags": []
          }
        }
      ]
    },
    {
      "cell_type": "markdown",
      "metadata": {
        "id": "t4C028pOa5cz"
      },
      "source": [
        "# Testing the Dataset"
      ]
    },
    {
      "cell_type": "code",
      "metadata": {
        "id": "utpFmcGLbBa6"
      },
      "source": [
        "\n",
        "x_test = encode(german_test.text.values, tokenizer, MAX_LEN)\n",
        "\n"
      ],
      "execution_count": null,
      "outputs": []
    },
    {
      "cell_type": "code",
      "metadata": {
        "id": "mTASpEgnbBa6"
      },
      "source": [
        "test_dataset = (\n",
        "      tf.data.Dataset\n",
        "      .from_tensor_slices(x_test)\n",
        "      .batch(BATCH_SIZE)\n",
        "  )"
      ],
      "execution_count": null,
      "outputs": []
    },
    {
      "cell_type": "code",
      "metadata": {
        "colab": {
          "base_uri": "https://localhost:8080/"
        },
        "id": "ICIwvQQ9bBa7",
        "outputId": "66069d9d-8a9c-4d65-b839-efd6466a7bd0"
      },
      "source": [
        " pr = model.predict(test_dataset , verbose=1 )\n",
        " "
      ],
      "execution_count": null,
      "outputs": [
        {
          "output_type": "stream",
          "text": [
            "15/15 [==============================] - 1s 54ms/step\n"
          ],
          "name": "stdout"
        }
      ]
    },
    {
      "cell_type": "code",
      "metadata": {
        "id": "NDOwqpkfbBa7"
      },
      "source": [
        "german_test[\"Prediction\"] =pr"
      ],
      "execution_count": null,
      "outputs": []
    },
    {
      "cell_type": "code",
      "metadata": {
        "id": "gnEJw0o0bBa7"
      },
      "source": [
        "german_test[\"Prediction\"] = german_test[\"Prediction\"].round()"
      ],
      "execution_count": null,
      "outputs": []
    },
    {
      "cell_type": "code",
      "metadata": {
        "colab": {
          "base_uri": "https://localhost:8080/"
        },
        "id": "oDYdJ2jmbTCo",
        "outputId": "f00f6d70-9ed8-405d-acc7-45f1f0d9b5f9"
      },
      "source": [
        "from sklearn.metrics import accuracy_score\n",
        "y_pred_gr_new = german_test[\"Prediction\"].tolist()\n",
        "y_true_gr_new = german_test[\"task_1\"].tolist()\n",
        "accuracy_score(y_true_gr_new, y_pred_gr_new)"
      ],
      "execution_count": null,
      "outputs": [
        {
          "output_type": "execute_result",
          "data": {
            "text/plain": [
              "0.8695993715632364"
            ]
          },
          "metadata": {
            "tags": []
          },
          "execution_count": 237
        }
      ]
    },
    {
      "cell_type": "code",
      "metadata": {
        "colab": {
          "base_uri": "https://localhost:8080/"
        },
        "id": "lUUWU2jMbwY-",
        "outputId": "8ebca6cd-778e-40e7-ac57-ab6f1f1f88c0"
      },
      "source": [
        "from sklearn.metrics import precision_recall_fscore_support\n",
        "precision ,recall, fscore , _  =precision_recall_fscore_support(y_true_gr_new, y_pred_gr_new, average='weighted')\n",
        "print('precision:' , precision , '    recall : '  ,recall, '    fscore : ' ,fscore)"
      ],
      "execution_count": null,
      "outputs": [
        {
          "output_type": "stream",
          "text": [
            "precision: 0.8462265676617037     recall :  0.8695993715632364     fscore :  0.8560495557155091\n"
          ],
          "name": "stdout"
        }
      ]
    },
    {
      "cell_type": "code",
      "metadata": {
        "colab": {
          "base_uri": "https://localhost:8080/"
        },
        "id": "NkEPAfk1bwY9",
        "outputId": "daff421a-a2da-4a57-e19c-4f3422ccf174"
      },
      "source": [
        "from sklearn.metrics import roc_curve, roc_auc_score\n",
        "german_new_combined_auc = roc_auc_score(y_true_gr_new, y_pred_gr_new)\n",
        "german_new_combined_auc"
      ],
      "execution_count": null,
      "outputs": [
        {
          "output_type": "execute_result",
          "data": {
            "text/plain": [
              "0.5753854008543341"
            ]
          },
          "metadata": {
            "tags": []
          },
          "execution_count": 239
        }
      ]
    },
    {
      "cell_type": "markdown",
      "metadata": {
        "id": "OYsqeaWULfxc"
      },
      "source": [
        "### Testing Single Value"
      ]
    },
    {
      "cell_type": "code",
      "metadata": {
        "id": "98Q81I8UYQ98"
      },
      "source": [
        "test_scentence = np.array([\"black man \"])"
      ],
      "execution_count": null,
      "outputs": []
    },
    {
      "cell_type": "code",
      "metadata": {
        "id": "YeKlmJRiRaRu"
      },
      "source": [
        "\n",
        "x_test = encode(test_scentence, tokenizer, MAX_LEN)"
      ],
      "execution_count": null,
      "outputs": []
    },
    {
      "cell_type": "code",
      "metadata": {
        "id": "HfjVvaJsV_7y"
      },
      "source": [
        "\n",
        "test_dataset = (\n",
        "      tf.data.Dataset\n",
        "      .from_tensor_slices(x_test)\n",
        "      .batch(BATCH_SIZE)\n",
        "  )\n"
      ],
      "execution_count": null,
      "outputs": []
    },
    {
      "cell_type": "code",
      "metadata": {
        "id": "cqmWUfM3W41M",
        "colab": {
          "base_uri": "https://localhost:8080/"
        },
        "outputId": "b4a9ffde-f277-477b-9898-d7f89477457c"
      },
      "source": [
        "model.predict(test_dataset , verbose=1 )"
      ],
      "execution_count": null,
      "outputs": [
        {
          "output_type": "stream",
          "text": [
            "1/1 [==============================] - 2s 2s/step\n"
          ],
          "name": "stdout"
        },
        {
          "output_type": "execute_result",
          "data": {
            "text/plain": [
              "array([[0.9982103]], dtype=float32)"
            ]
          },
          "metadata": {
            "tags": []
          },
          "execution_count": 224
        }
      ]
    },
    {
      "cell_type": "markdown",
      "metadata": {
        "id": "_F0DPG9XU0x0"
      },
      "source": [
        "# ROC /AUC Curve"
      ]
    },
    {
      "cell_type": "code",
      "metadata": {
        "id": "SMJZkFckUooO"
      },
      "source": [
        "test_kaggle_fpr, test_kaggle_tpr, _ = roc_curve(y_true_testset_kaggle, y_pred_testset_kaggle)\n",
        "german_fpr, german_tpr, _ = roc_curve(y_true_gr, y_pred_gr)\n",
        "frensh_fpr, frensh_tpr, _ = roc_curve(y_true_fr, y_pred_fr)\n",
        "turkey_fpr, turkey_tpr, _ = roc_curve(y_true_tr, y_pred_tr)\n",
        "spanish_fpr, spanish_tpr, _ = roc_curve(y_true_es, y_pred_es)\n",
        "italian_fpr,italian_tpr, _ = roc_curve(y_true_italian, y_pred_italian)\n",
        "other_german_fpr,other_german_tpr, _ = roc_curve(y_true_gr_new, y_pred_gr_new)\n",
        "\n",
        "\n",
        "\n",
        "\n",
        "\n"
      ],
      "execution_count": null,
      "outputs": []
    },
    {
      "cell_type": "code",
      "metadata": {
        "colab": {
          "base_uri": "https://localhost:8080/",
          "height": 295
        },
        "id": "FtPr4GlGSFVW",
        "outputId": "20f9d351-f372-48d5-9a10-8121d39892b1"
      },
      "source": [
        "import matplotlib.pyplot as plt \n",
        "%matplotlib inline\n",
        "\n",
        "plt.plot(test_kaggle_fpr, test_kaggle_tpr, linestyle='--', label='Jigsaw training data')\n",
        "plt.plot(german_fpr, german_tpr, linestyle='--',label='German test set')\n",
        "plt.plot(frensh_fpr, frensh_tpr, linestyle='--', label='Frensh test set')\n",
        "plt.plot(turkey_fpr, turkey_tpr, linestyle='--', label='Turkey test set')\n",
        "plt.plot(spanish_fpr, spanish_tpr, linestyle='--', label='Spanish test set')\n",
        "plt.plot(italian_fpr,italian_tpr, linestyle='--', label='Italian test set')\n",
        "plt.plot(other_german_fpr,other_german_tpr, linestyle='--', label='New German test set')\n",
        "\n",
        "# axis labels\n",
        "plt.xlabel('False Positive Rate')\n",
        "plt.ylabel('True Positive Rate')\n",
        "# show the legend\n",
        "plt.legend()\n",
        "# show the plot\n",
        "plt.title(\"ROC/AUC Curves\")\n",
        "\n",
        "plt.show()"
      ],
      "execution_count": null,
      "outputs": [
        {
          "output_type": "display_data",
          "data": {
            "image/png": "[encoded data removed]",
            "text/plain": [
              "<Figure size 432x288 with 1 Axes>"
            ]
          },
          "metadata": {
            "tags": [],
            "needs_background": "light"
          }
        }
      ]
    }
  ]
}